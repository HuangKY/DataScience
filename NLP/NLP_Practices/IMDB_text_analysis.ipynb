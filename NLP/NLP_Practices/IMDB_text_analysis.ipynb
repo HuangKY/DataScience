{
 "cells": [
  {
   "cell_type": "markdown",
   "metadata": {},
   "source": [
    "# Intro\n",
    "* In this notebook, I will practice the following skills:\n",
    "    * text cleansing, including stem / lem\n",
    "    * X1: Tokenize / CountVectorizer\n",
    "    * X2: tfidf\n",
    "    * X3: word2vec\n",
    "    * Brief Sentimental Analysis (Compare the above three methods)\n",
    "* Reference:\n",
    "    * Most contents are based on this: https://www.datacamp.com/community/tutorials/text-analytics-beginners-nltk"
   ]
  },
  {
   "cell_type": "markdown",
   "metadata": {},
   "source": [
    "# Import packages"
   ]
  },
  {
   "cell_type": "code",
   "execution_count": 1,
   "metadata": {},
   "outputs": [],
   "source": [
    "# https://ipython.org/ipython-doc/stable/config/extensions/autoreload.html\n",
    "%load_ext autoreload\n",
    "%autoreload 2"
   ]
  },
  {
   "cell_type": "code",
   "execution_count": 2,
   "metadata": {},
   "outputs": [
    {
     "name": "stderr",
     "output_type": "stream",
     "text": [
      "/Users/yao/miniconda3/lib/python3.7/site-packages/tqdm/std.py:668: FutureWarning: The Panel class is removed from pandas. Accessing it from the top-level namespace will also be removed in the next version\n",
      "  from pandas import Panel\n"
     ]
    }
   ],
   "source": [
    "import pandas as pd\n",
    "import numpy as np\n",
    "\n",
    "import re\n",
    "\n",
    "pd.set_option('max_colwidth', 500)\n",
    "\n",
    "from tqdm import tqdm\n",
    "tqdm.pandas()\n",
    "\n",
    "import nltk\n",
    "# nltk.download('stopwords')\n",
    "# nltk.download('wordnet')\n",
    "# nltk.download('punkt')\n",
    "from nltk.tokenize import word_tokenize\n",
    "from nltk.probability import FreqDist\n",
    "from sklearn.feature_extraction.text import CountVectorizer\n",
    "from nltk.tokenize import RegexpTokenizer\n",
    "from sklearn.feature_extraction.text import TfidfVectorizer\n",
    "from gensim.models.keyedvectors import KeyedVectors\n",
    "import spacy\n",
    "\n",
    "import matplotlib.pyplot as plt\n",
    "%matplotlib inline\n",
    "\n",
    "import sklearn\n",
    "from sklearn.model_selection import train_test_split\n",
    "from sklearn.ensemble import RandomForestClassifier\n",
    "from sklearn.metrics import classification_report\n",
    "\n",
    "from utils.cleansing import text_cleansing, swem_agg_vector, cos_similarity"
   ]
  },
  {
   "cell_type": "code",
   "execution_count": 5,
   "metadata": {},
   "outputs": [],
   "source": [
    "df = pd.read_csv('./data/IMDB_Dataset.csv')  # The data is from : https://www.kaggle.com/lakshmi25npathi/imdb-dataset-of-50k-movie-reviews"
   ]
  },
  {
   "cell_type": "markdown",
   "metadata": {},
   "source": [
    "# Tokenize\n",
    "* Tokenize the text and see the distribution"
   ]
  },
  {
   "cell_type": "markdown",
   "metadata": {},
   "source": [
    "## word_tokenize"
   ]
  },
  {
   "cell_type": "code",
   "execution_count": 23,
   "metadata": {},
   "outputs": [
    {
     "data": {
      "text/plain": [
       "\"One of the other reviewers has mentioned that after watching just 1 Oz episode you'll be hooked. They are right, as this is exactly what happened with me.<br /><br />The first thing that struck me about Oz was its brutality and unflinching scenes of violence, which set in right from the word GO. Trust me, this is not a show for the faint hearted or timid. This show pulls no punches with regards to drugs, sex or violence. Its is hardcore, in the classic use of the word.<br /><br />It is called OZ as that is the nickname given to the Oswald Maximum Security State Penitentary. It focuses mainly on Emerald City, an experimental section of the prison where all the cells have glass fronts and face inwards, so privacy is not high on the agenda. Em City is home to many..Aryans, Muslims, gangstas, Latinos, Christians, Italians, Irish and more....so scuffles, death stares, dodgy dealings and shady agreements are never far away.<br /><br />I would say the main appeal of the show is due to the fact that it goes where other shows wouldn't dare. Forget pretty pictures painted for mainstream audiences, forget charm, forget romance...OZ doesn't mess around. The first episode I ever saw struck me as so nasty it was surreal, I couldn't say I was ready for it, but as I watched more, I developed a taste for Oz, and got accustomed to the high levels of graphic violence. Not just violence, but injustice (crooked guards who'll be sold out for a nickel, inmates who'll kill on order and get away with it, well mannered, middle class inmates being turned into prison bitches due to their lack of street skills or prison experience) Watching Oz, you may become comfortable with what is uncomfortable viewing....thats if you can get in touch with your darker side.\""
      ]
     },
     "execution_count": 23,
     "metadata": {},
     "output_type": "execute_result"
    }
   ],
   "source": [
    "# Tokenize one of the text, and see the result\n",
    "text = df['review'].iloc[0]\n",
    "text"
   ]
  },
  {
   "cell_type": "code",
   "execution_count": 8,
   "metadata": {},
   "outputs": [
    {
     "name": "stdout",
     "output_type": "stream",
     "text": [
      "['one', 'reviewer', 'mention', 'watch', '1', 'oz', 'episode', 'youll', 'hook', 'right', 'exactly', 'happen', 'methe', 'first', 'thing', 'strike', 'oz', 'brutality', 'unflinching', 'scene', 'violence', 'set', 'right', 'word', 'go', 'trust', 'show', 'faint', 'hearted', 'timid', 'show', 'pull', 'punch', 'regard', 'drug', 'sex', 'violence', 'hardcore', 'classic', 'use', 'wordit', 'call', 'oz', 'nickname', 'give', 'oswald', 'maximum', 'security', 'state', 'penitentary', 'focus', 'mainly', 'emerald', 'city', 'experimental', 'section', 'prison', 'cell', 'glass', 'front', 'face', 'inwards', 'privacy', 'high', 'agenda', 'em', 'city', 'home', 'manyaryans', 'muslim', 'gangsta', 'latino', 'christian', 'italian', 'irish', 'moreso', 'scuffle', 'death', 'star', 'dodgy', 'deal', 'shady', 'agreement', 'never', 'far', 'awayi', 'would', 'say', 'main', 'appeal', 'show', 'due', 'fact', 'go', 'show', 'wouldnt', 'dare', 'forget', 'pretty', 'picture', 'paint', 'mainstream', 'audience', 'forget', 'charm', 'forget', 'romanceoz', 'doesnt', 'mess', 'around', 'first', 'episode', 'ever', 'saw', 'strike', 'nasty', 'surreal', 'couldnt', 'say', 'ready', 'watch', 'develop', 'taste', 'oz', 'get', 'accustom', 'high', 'level', 'graphic', 'violence', 'violence', 'injustice', 'crook', 'guard', 'wholl', 'sell', 'nickel', 'inmate', 'wholl', 'kill', 'order', 'get', 'away', 'well', 'mannered', 'middle', 'class', 'inmate', 'turn', 'prison', 'bitch', 'due', 'lack', 'street', 'skill', 'prison', 'experience', 'watch', 'oz', 'may', 'become', 'comfortable', 'uncomfortable', 'viewingthats', 'get', 'touch', 'darker', 'side']\n"
     ]
    }
   ],
   "source": [
    "# Tokenize one of the text, and see the result\n",
    "tokenized_word=word_tokenize(text_cleansing(text))\n",
    "print(tokenized_word)"
   ]
  },
  {
   "cell_type": "markdown",
   "metadata": {},
   "source": [
    "## Distribution plot"
   ]
  },
  {
   "cell_type": "code",
   "execution_count": 9,
   "metadata": {},
   "outputs": [
    {
     "name": "stdout",
     "output_type": "stream",
     "text": [
      "fdist = <FreqDist with 139 samples and 168 outcomes>\n"
     ]
    },
    {
     "data": {
      "image/png": "[encoded data removed]",
      "text/plain": [
       "<Figure size 1080x360 with 1 Axes>"
      ]
     },
     "metadata": {
      "needs_background": "light"
     },
     "output_type": "display_data"
    }
   ],
   "source": [
    "# Tokenize one of the text, and see the result\n",
    "# Distribution Plot\n",
    "# Ref: https://www.datacamp.com/community/tutorials/text-analytics-beginners-nltk\n",
    "fdist = FreqDist(tokenized_word)\n",
    "print('fdist = {}'.format(fdist))\n",
    "\n",
    "# Frequency Distribution Plot\n",
    "plt.figure(figsize=(15, 5)) # figureの縦横の大きさ\n",
    "fdist.plot(30,cumulative=False)\n",
    "plt.show()"
   ]
  },
  {
   "cell_type": "markdown",
   "metadata": {},
   "source": [
    "# text cleansing function"
   ]
  },
  {
   "cell_type": "code",
   "execution_count": 22,
   "metadata": {},
   "outputs": [
    {
     "data": {
      "text/plain": [
       "('reviewer study study study want want wanna code go go go better good connection connect connect connect fly fly',\n",
       " 'dont havent not reviewer study study study want want wanna code go go go better good connection connect connect connect fly fly')"
      ]
     },
     "execution_count": 22,
     "metadata": {},
     "output_type": "execute_result"
    }
   ],
   "source": [
    "# check:  utils.cleansing.text_cleansing\n",
    "text_cleansing(\"don't haven't not reviewers studies studying study wanted want wanna code go went gone better good connection connect connected connecting flies fly\",\n",
    "              is_including_nons=False), text_cleansing(\"don't haven't not reviewers studies studying study wanted want wanna code go went gone better good connection connect connected connecting flies fly\",\n",
    "              is_including_nons=True)"
   ]
  },
  {
   "cell_type": "code",
   "execution_count": 7,
   "metadata": {},
   "outputs": [
    {
     "name": "stderr",
     "output_type": "stream",
     "text": [
      "100%|██████████| 50000/50000 [01:34<00:00, 530.28it/s]\n",
      "100%|██████████| 50000/50000 [01:17<00:00, 648.50it/s]"
     ]
    },
    {
     "name": "stdout",
     "output_type": "stream",
     "text": [
      "CPU times: user 2min 45s, sys: 3.74 s, total: 2min 48s\n",
      "Wall time: 2min 51s\n"
     ]
    },
    {
     "name": "stderr",
     "output_type": "stream",
     "text": [
      "\n"
     ]
    }
   ],
   "source": [
    "%%time\n",
    "#df['review_clean'] = df['review'].map(lambda x: text_cleansing(x))\n",
    "df['review_clean'] = df['review'].progress_map(lambda x: text_cleansing(x))\n",
    "df['review_clean_non_include'] = df['review'].progress_map(lambda x: text_cleansing(x, True))"
   ]
  },
  {
   "cell_type": "code",
   "execution_count": 30,
   "metadata": {},
   "outputs": [
    {
     "data": {
      "text/html": [
       "<div>\n",
       "<style scoped>\n",
       "    .dataframe tbody tr th:only-of-type {\n",
       "        vertical-align: middle;\n",
       "    }\n",
       "\n",
       "    .dataframe tbody tr th {\n",
       "        vertical-align: top;\n",
       "    }\n",
       "\n",
       "    .dataframe thead th {\n",
       "        text-align: right;\n",
       "    }\n",
       "</style>\n",
       "<table border=\"1\" class=\"dataframe\">\n",
       "  <thead>\n",
       "    <tr style=\"text-align: right;\">\n",
       "      <th></th>\n",
       "      <th>review</th>\n",
       "      <th>sentiment</th>\n",
       "      <th>review_clean</th>\n",
       "      <th>review_clean_non_include</th>\n",
       "    </tr>\n",
       "  </thead>\n",
       "  <tbody>\n",
       "    <tr>\n",
       "      <th>0</th>\n",
       "      <td>One of the other reviewers has mentioned that ...</td>\n",
       "      <td>positive</td>\n",
       "      <td>one reviewer mention watch 1 oz episode hooked...</td>\n",
       "      <td>one reviewer mention watch 1 oz episode hooked...</td>\n",
       "    </tr>\n",
       "    <tr>\n",
       "      <th>1</th>\n",
       "      <td>A wonderful little production. &lt;br /&gt;&lt;br /&gt;The...</td>\n",
       "      <td>positive</td>\n",
       "      <td>wonderful little production film technique una...</td>\n",
       "      <td>wonderful little production film technique una...</td>\n",
       "    </tr>\n",
       "    <tr>\n",
       "      <th>2</th>\n",
       "      <td>I thought this was a wonderful way to spend ti...</td>\n",
       "      <td>positive</td>\n",
       "      <td>think wonderful way spend time hot summer week...</td>\n",
       "      <td>think wonderful way spend time hot summer week...</td>\n",
       "    </tr>\n",
       "    <tr>\n",
       "      <th>3</th>\n",
       "      <td>Basically there's a family where a little boy ...</td>\n",
       "      <td>negative</td>\n",
       "      <td>basically theres family little boy jake think ...</td>\n",
       "      <td>basically theres family little boy jake think ...</td>\n",
       "    </tr>\n",
       "    <tr>\n",
       "      <th>4</th>\n",
       "      <td>Petter Mattei's \"Love in the Time of Money\" is...</td>\n",
       "      <td>positive</td>\n",
       "      <td>petter matteis love time money visually stun f...</td>\n",
       "      <td>petter matteis love time money visually stun f...</td>\n",
       "    </tr>\n",
       "  </tbody>\n",
       "</table>\n",
       "</div>"
      ],
      "text/plain": [
       "                                              review sentiment  \\\n",
       "0  One of the other reviewers has mentioned that ...  positive   \n",
       "1  A wonderful little production. <br /><br />The...  positive   \n",
       "2  I thought this was a wonderful way to spend ti...  positive   \n",
       "3  Basically there's a family where a little boy ...  negative   \n",
       "4  Petter Mattei's \"Love in the Time of Money\" is...  positive   \n",
       "\n",
       "                                        review_clean  \\\n",
       "0  one reviewer mention watch 1 oz episode hooked...   \n",
       "1  wonderful little production film technique una...   \n",
       "2  think wonderful way spend time hot summer week...   \n",
       "3  basically theres family little boy jake think ...   \n",
       "4  petter matteis love time money visually stun f...   \n",
       "\n",
       "                            review_clean_non_include  \n",
       "0  one reviewer mention watch 1 oz episode hooked...  \n",
       "1  wonderful little production film technique una...  \n",
       "2  think wonderful way spend time hot summer week...  \n",
       "3  basically theres family little boy jake think ...  \n",
       "4  petter matteis love time money visually stun f...  "
      ]
     },
     "execution_count": 30,
     "metadata": {},
     "output_type": "execute_result"
    }
   ],
   "source": [
    "df.head()"
   ]
  },
  {
   "cell_type": "markdown",
   "metadata": {},
   "source": [
    "# Sentiment Analysis\n",
    "* The original data includes \"sentiment\" column. Use it to make sentiment prediction."
   ]
  },
  {
   "cell_type": "code",
   "execution_count": 59,
   "metadata": {},
   "outputs": [],
   "source": [
    "# Make dummy variable for sentiment nominal variable\n",
    "df['sentiment_v'] = df['sentiment'].map(lambda x: 1 if x == 'positive' else 0)"
   ]
  },
  {
   "cell_type": "code",
   "execution_count": 41,
   "metadata": {},
   "outputs": [
    {
     "data": {
      "text/plain": [
       "positive    25000\n",
       "negative    25000\n",
       "Name: sentiment, dtype: int64"
      ]
     },
     "execution_count": 41,
     "metadata": {},
     "output_type": "execute_result"
    }
   ],
   "source": [
    "df.sentiment.value_counts()"
   ]
  },
  {
   "cell_type": "markdown",
   "metadata": {},
   "source": [
    "## CountVectorizer (Bow)\n",
    "* Data-Cleansing for all the text\n",
    "* Use CountVectorizer to count each token"
   ]
  },
  {
   "cell_type": "code",
   "execution_count": 59,
   "metadata": {},
   "outputs": [],
   "source": [
    "# Compare across essays with CountVectorizer : Bag-of-words model(BoW ) \n",
    "# ref: https://www.datacamp.com/community/tutorials/text-analytics-beginners-nltk\n",
    "\n",
    "#tokenizer to remove unwanted elements from out data like symbols and numbers\n",
    "cv = CountVectorizer()\n",
    "text_counts = cv.fit_transform(df['review_clean'])"
   ]
  },
  {
   "cell_type": "code",
   "execution_count": 60,
   "metadata": {},
   "outputs": [
    {
     "data": {
      "text/plain": [
       "array([[0, 0, 0, ..., 0, 0, 0],\n",
       "       [0, 0, 0, ..., 0, 0, 0],\n",
       "       [0, 0, 0, ..., 0, 0, 0],\n",
       "       ...,\n",
       "       [0, 0, 0, ..., 0, 0, 0],\n",
       "       [0, 0, 0, ..., 0, 0, 0],\n",
       "       [0, 0, 0, ..., 0, 0, 0]])"
      ]
     },
     "execution_count": 60,
     "metadata": {},
     "output_type": "execute_result"
    }
   ],
   "source": [
    "text_counts.toarray()"
   ]
  },
  {
   "cell_type": "code",
   "execution_count": 61,
   "metadata": {},
   "outputs": [],
   "source": [
    "cv_n = CountVectorizer()\n",
    "text_counts_non_include = cv_n.fit_transform(df['review_clean_non_include'])"
   ]
  },
  {
   "cell_type": "code",
   "execution_count": 62,
   "metadata": {},
   "outputs": [
    {
     "data": {
      "text/plain": [
       "array([[0, 0, 0, ..., 0, 0, 0],\n",
       "       [0, 0, 0, ..., 0, 0, 0],\n",
       "       [0, 0, 0, ..., 0, 0, 0],\n",
       "       ...,\n",
       "       [0, 0, 0, ..., 0, 0, 0],\n",
       "       [0, 0, 0, ..., 0, 0, 0],\n",
       "       [0, 0, 0, ..., 0, 0, 0]])"
      ]
     },
     "execution_count": 62,
     "metadata": {},
     "output_type": "execute_result"
    }
   ],
   "source": [
    "text_counts_non_include.toarray()"
   ]
  },
  {
   "cell_type": "markdown",
   "metadata": {},
   "source": [
    "### Model Fitting"
   ]
  },
  {
   "cell_type": "code",
   "execution_count": 43,
   "metadata": {},
   "outputs": [],
   "source": [
    "# Split Data to test / train data\n",
    "X_train, X_test, y_train, y_test = train_test_split(\n",
    "    text_counts, df['sentiment_v'], stratify=df['sentiment_v'], test_size=0.3, random_state=1)\n",
    "\n",
    "X_train_n, X_test_n, y_train_n, y_test_n = train_test_split(\n",
    "    text_counts_non_include, df['sentiment_v'], stratify=df['sentiment_v'], test_size=0.3, random_state=1)"
   ]
  },
  {
   "cell_type": "code",
   "execution_count": 44,
   "metadata": {},
   "outputs": [
    {
     "data": {
      "text/plain": [
       "(1    17500\n",
       " 0    17500\n",
       " Name: sentiment_v, dtype: int64,\n",
       " 1    7500\n",
       " 0    7500\n",
       " Name: sentiment_v, dtype: int64,\n",
       " 1    17500\n",
       " 0    17500\n",
       " Name: sentiment_v, dtype: int64,\n",
       " 1    7500\n",
       " 0    7500\n",
       " Name: sentiment_v, dtype: int64)"
      ]
     },
     "execution_count": 44,
     "metadata": {},
     "output_type": "execute_result"
    }
   ],
   "source": [
    "y_train.value_counts(), y_test.value_counts(), y_train_n.value_counts(), y_test_n.value_counts()"
   ]
  },
  {
   "cell_type": "code",
   "execution_count": 46,
   "metadata": {},
   "outputs": [
    {
     "name": "stdout",
     "output_type": "stream",
     "text": [
      "CPU times: user 8min 31s, sys: 1.4 s, total: 8min 33s\n",
      "Wall time: 8min 34s\n"
     ]
    },
    {
     "data": {
      "text/plain": [
       "RandomForestClassifier(bootstrap=True, ccp_alpha=0.0, class_weight=None,\n",
       "                       criterion='gini', max_depth=None, max_features='auto',\n",
       "                       max_leaf_nodes=None, max_samples=None,\n",
       "                       min_impurity_decrease=0.0, min_impurity_split=None,\n",
       "                       min_samples_leaf=1, min_samples_split=2,\n",
       "                       min_weight_fraction_leaf=0.0, n_estimators=100,\n",
       "                       n_jobs=None, oob_score=False, random_state=0, verbose=0,\n",
       "                       warm_start=False)"
      ]
     },
     "execution_count": 46,
     "metadata": {},
     "output_type": "execute_result"
    }
   ],
   "source": [
    "%%time\n",
    "# Use random forest\n",
    "rf_classifier = RandomForestClassifier(random_state=0)\n",
    "rf_classifier_n = RandomForestClassifier(random_state=0)\n",
    "rf_classifier.fit(X_train, y_train)\n",
    "rf_classifier_n.fit(X_train_n, y_train_n)"
   ]
  },
  {
   "cell_type": "markdown",
   "metadata": {},
   "source": [
    "### Difference between \"including non-words\" and \"without non-words\"\n",
    "* The following analysis will investigate the diffrence between \"including non-words\" and \"without non-words\""
   ]
  },
  {
   "cell_type": "code",
   "execution_count": 47,
   "metadata": {},
   "outputs": [
    {
     "name": "stdout",
     "output_type": "stream",
     "text": [
      "CPU times: user 1.77 s, sys: 9.17 ms, total: 1.78 s\n",
      "Wall time: 1.79 s\n"
     ]
    },
    {
     "data": {
      "text/plain": [
       "0.8536"
      ]
     },
     "execution_count": 47,
     "metadata": {},
     "output_type": "execute_result"
    }
   ],
   "source": [
    "%%time\n",
    "# Evaluation  (no not_list)\n",
    "rf_classifier.score(X_test, y_test)  # ACC"
   ]
  },
  {
   "cell_type": "code",
   "execution_count": 48,
   "metadata": {},
   "outputs": [
    {
     "name": "stdout",
     "output_type": "stream",
     "text": [
      "CPU times: user 1.66 s, sys: 7 ms, total: 1.67 s\n",
      "Wall time: 1.67 s\n"
     ]
    },
    {
     "data": {
      "text/plain": [
       "0.8512666666666666"
      ]
     },
     "execution_count": 48,
     "metadata": {},
     "output_type": "execute_result"
    }
   ],
   "source": [
    "%%time\n",
    "# Evaluation  (with not_list)\n",
    "rf_classifier_n.score(X_test_n, y_test_n)  # ACC"
   ]
  },
  {
   "cell_type": "code",
   "execution_count": 49,
   "metadata": {},
   "outputs": [
    {
     "name": "stdout",
     "output_type": "stream",
     "text": [
      "              precision    recall  f1-score   support\n",
      "\n",
      "    negative       0.85      0.85      0.85      7500\n",
      "    positive       0.85      0.85      0.85      7500\n",
      "\n",
      "    accuracy                           0.85     15000\n",
      "   macro avg       0.85      0.85      0.85     15000\n",
      "weighted avg       0.85      0.85      0.85     15000\n",
      "\n"
     ]
    }
   ],
   "source": [
    "# classification_report  (no not_list)\n",
    "print(classification_report(y_test, rf_classifier.predict(X_test), target_names=['negative', 'positive']))"
   ]
  },
  {
   "cell_type": "code",
   "execution_count": 50,
   "metadata": {},
   "outputs": [
    {
     "name": "stdout",
     "output_type": "stream",
     "text": [
      "              precision    recall  f1-score   support\n",
      "\n",
      "    negative       0.85      0.86      0.85      7500\n",
      "    positive       0.86      0.84      0.85      7500\n",
      "\n",
      "    accuracy                           0.85     15000\n",
      "   macro avg       0.85      0.85      0.85     15000\n",
      "weighted avg       0.85      0.85      0.85     15000\n",
      "\n"
     ]
    }
   ],
   "source": [
    "# classification_report  (with not_list)\n",
    "print(classification_report(y_test_n, rf_classifier_n.predict(X_test_n), target_names=['negative', 'positive']))"
   ]
  },
  {
   "cell_type": "markdown",
   "metadata": {},
   "source": [
    "* 1 % better (By including non-words can make the sentiment prediction a little bit better ?)"
   ]
  },
  {
   "cell_type": "code",
   "execution_count": 51,
   "metadata": {},
   "outputs": [],
   "source": [
    "# Self test (The text that wanna try myself)\n",
    "self_case = [\n",
    "    \"I do not like this movie. It's very dark and blue. I hope they can insert more interesting plots.\",\n",
    "    \"I dislike the movie. Dark and heavy. They should change the plot more. The plot goes to rapidly. Get offended. Awful dialogue.\",\n",
    "    \"I like this movie. It's very energetic.\",\n",
    "    'It is the best movie I have ever watched before',\n",
    "    'Well, not good and not bad. Just feel the director had pay a lot of effort to the movie. I like the main actor though.'\n",
    "]"
   ]
  },
  {
   "cell_type": "code",
   "execution_count": 53,
   "metadata": {},
   "outputs": [],
   "source": [
    "text_cleaned_list = []\n",
    "text_cleaned_non_list = []\n",
    "for text in self_case:\n",
    "    text_cleaned = text_cleansing(text)\n",
    "    text_cleaned_list.append(text_cleaned)\n",
    "    \n",
    "    text_cleaned_n = text_cleansing(text, True)\n",
    "    text_cleaned_non_list.append(text_cleaned_n)    "
   ]
  },
  {
   "cell_type": "code",
   "execution_count": 54,
   "metadata": {},
   "outputs": [
    {
     "data": {
      "text/plain": [
       "['like movie dark blue hope insert interest plots',\n",
       " 'dislike movie dark heavy change plot more plot go rapidly get offended awful dialogue',\n",
       " 'like movie energetic',\n",
       " 'best movie ever watch',\n",
       " 'well good bad feel director pay lot effort movie like main actor though']"
      ]
     },
     "execution_count": 54,
     "metadata": {},
     "output_type": "execute_result"
    }
   ],
   "source": [
    "# (no not_list)\n",
    "text_cleaned_list"
   ]
  },
  {
   "cell_type": "code",
   "execution_count": 63,
   "metadata": {},
   "outputs": [
    {
     "data": {
      "text/plain": [
       "array([1, 0, 1, 1, 0])"
      ]
     },
     "execution_count": 63,
     "metadata": {},
     "output_type": "execute_result"
    }
   ],
   "source": [
    "# (no not_list)\n",
    "rf_classifier.predict(cv.transform(text_cleaned_list))    # negative=0, positive=1"
   ]
  },
  {
   "cell_type": "code",
   "execution_count": 65,
   "metadata": {},
   "outputs": [
    {
     "data": {
      "text/plain": [
       "['not like movie dark blue hope insert interest plots',\n",
       " 'dislike movie dark heavy change plot more plot go rapidly get offended awful dialogue',\n",
       " 'like movie energetic',\n",
       " 'best movie ever watch',\n",
       " 'well not good not bad feel director pay lot effort movie like main actor though']"
      ]
     },
     "execution_count": 65,
     "metadata": {},
     "output_type": "execute_result"
    }
   ],
   "source": [
    "# (with not_list)\n",
    "text_cleaned_non_list"
   ]
  },
  {
   "cell_type": "code",
   "execution_count": 66,
   "metadata": {},
   "outputs": [
    {
     "data": {
      "text/plain": [
       "array([1, 0, 1, 1, 0])"
      ]
     },
     "execution_count": 66,
     "metadata": {},
     "output_type": "execute_result"
    }
   ],
   "source": [
    "# (with not_list)\n",
    "rf_classifier_n.predict(cv_n.transform(text_cleaned_non_list))   # negative=0, positive=1"
   ]
  },
  {
   "cell_type": "markdown",
   "metadata": {},
   "source": [
    "* There is not big difference here. It's better to invetigate the original dataset to explore more."
   ]
  },
  {
   "cell_type": "markdown",
   "metadata": {},
   "source": [
    "## Bow - spaCy"
   ]
  },
  {
   "cell_type": "code",
   "execution_count": 80,
   "metadata": {},
   "outputs": [
    {
     "name": "stdout",
     "output_type": "stream",
     "text": [
      "Apple apple PROPN NNP nsubj Xxxxx True False apple\n",
      "thought think VERB VBD ROOT xxxx True False thought\n",
      "about about ADP IN prep xxxx True True about\n",
      "buying buy VERB VBG pcomp xxxx True False buying\n",
      "U.K. u.k. PROPN NNP compound X.X. False False u.k.\n",
      "startup startup NOUN NN dobj xxxx True False startup\n",
      "for for ADP IN prep xxx True True for\n",
      "$ $ SYM $ quantmod $ False False $\n",
      "1 1 NUM CD compound d False False 1\n",
      "billion billion NUM CD pobj xxxx True False billion\n",
      ". . PUNCT . punct . False False .\n",
      "I -PRON- PRON PRP nsubjpass X True False i\n",
      "was be VERB VBD auxpass xxx True True was\n",
      "born bear VERB VBN ROOT xxxx True False born\n",
      "in in ADP IN prep xx True True in\n",
      "Saitama saitama PROPN NNP pobj Xxxxx True False saitama\n",
      ". . PUNCT . punct . False False .\n",
      "The the DET DT det Xxx True False the\n",
      "gender gender NOUN NN compound xxxx True False gender\n",
      "discrimination discrimination NOUN NN ROOT xxxx True False discrimination\n",
      ". . PUNCT . punct . False False .\n",
      "                SPACE _SP       False False        \n",
      "San san PROPN NNP compound Xxx True False san\n",
      "Francisco francisco PROPN NNP compound Xxxxx True False francisco\n",
      "considers consider VERB VBZ ROOT xxxx True False considers\n",
      "banning ban VERB VBG ccomp xxxx True False banning\n",
      "sidewalk sidewalk NOUN NN compound xxxx True False sidewalk\n",
      "delivery delivery NOUN NN compound xxxx True False delivery\n",
      "robots robot NOUN NNS dobj xxxx True False robots\n",
      ". . PUNCT . punct . False False .\n",
      "                SPACE _SP       False False        \n",
      "FB fb PROPN NNP nsubj XX True False fb\n",
      "is be VERB VBZ aux xx True True is\n",
      "hiring hire VERB VBG ROOT xxxx True False hiring\n",
      "a a DET DT det x True True gonna\n",
      "new new ADJ JJ amod xxx True False new\n",
      "VP vp PROPN NNP dobj XX True False vp\n",
      "of of ADP IN prep xx True True of\n",
      "global global ADJ JJ amod xxxx True False global\n",
      "policy policy NOUN NN pobj xxxx True False policy\n",
      ". . PUNCT . punct . False False .\n"
     ]
    }
   ],
   "source": [
    "import spacy\n",
    "\n",
    "\n",
    "nlp = spacy.load(\"en_core_web_sm\")\n",
    "text = \"Apple thought about buying U.K. startup for $1 billion. I was born in Saitama. The gender discrimination. \\\n",
    "       San Francisco considers banning sidewalk delivery robots. \\\n",
    "       FB is hiring a new VP of global policy.\"\n",
    "doc = nlp(text)\n",
    "for token in doc:\n",
    "    print(token.text, token.lemma_, token.pos_, token.tag_, token.dep_,\n",
    "            token.shape_, token.is_alpha, token.is_stop, token.norm_)"
   ]
  },
  {
   "cell_type": "code",
   "execution_count": 56,
   "metadata": {},
   "outputs": [
    {
     "data": {
      "text/plain": [
       "(Apple, U.K., $1 billion, Saitama, San Francisco, VP)"
      ]
     },
     "execution_count": 56,
     "metadata": {},
     "output_type": "execute_result"
    }
   ],
   "source": [
    "doc.ents"
   ]
  },
  {
   "cell_type": "code",
   "execution_count": 57,
   "metadata": {},
   "outputs": [
    {
     "data": {
      "text/plain": [
       "[Apple,\n",
       " U.K. startup,\n",
       " I,\n",
       " Saitama,\n",
       " The gender discrimination,\n",
       " sidewalk delivery robots,\n",
       " FB,\n",
       " a new VP,\n",
       " global policy]"
      ]
     },
     "execution_count": 57,
     "metadata": {},
     "output_type": "execute_result"
    }
   ],
   "source": [
    "list(doc.noun_chunks)"
   ]
  },
  {
   "cell_type": "code",
   "execution_count": 58,
   "metadata": {},
   "outputs": [
    {
     "data": {
      "text/plain": [
       "['apple',\n",
       " 'think',\n",
       " 'buy',\n",
       " 'u.k.',\n",
       " 'startup',\n",
       " 'bear',\n",
       " 'saitama',\n",
       " 'gender',\n",
       " 'discrimination',\n",
       " 'san',\n",
       " 'francisco',\n",
       " 'consider',\n",
       " 'ban',\n",
       " 'sidewalk',\n",
       " 'delivery',\n",
       " 'robot',\n",
       " 'fb',\n",
       " 'hire',\n",
       " 'new',\n",
       " 'vp',\n",
       " 'global',\n",
       " 'policy']"
      ]
     },
     "execution_count": 58,
     "metadata": {},
     "output_type": "execute_result"
    }
   ],
   "source": [
    "[token.lemma_ for token in doc                # lower case; lemmitization\n",
    " if token.pos_ in ['NOUN', 'PROPN', 'VERB', 'ADJ']   # remove numbers and punctuation\n",
    "               and token.is_stop == False]    # stop words"
   ]
  },
  {
   "cell_type": "code",
   "execution_count": 81,
   "metadata": {},
   "outputs": [
    {
     "data": {
      "text/plain": [
       "'apple think buy uk startup 1 billion bear saitama gender discrimination san francisco consider ban sidewalk delivery robot fb hire new vp global policy'"
      ]
     },
     "execution_count": 81,
     "metadata": {},
     "output_type": "execute_result"
    }
   ],
   "source": [
    "# compare\n",
    "text_cleansing(text)"
   ]
  },
  {
   "cell_type": "markdown",
   "metadata": {},
   "source": [
    "* In sum, using spaCy is easier than using the cleansing function."
   ]
  },
  {
   "cell_type": "markdown",
   "metadata": {},
   "source": [
    "## tfidf Analysis"
   ]
  },
  {
   "cell_type": "code",
   "execution_count": 70,
   "metadata": {},
   "outputs": [
    {
     "data": {
      "text/plain": [
       "array([[0., 0., 0., ..., 0., 0., 0.],\n",
       "       [0., 0., 0., ..., 0., 0., 0.],\n",
       "       [0., 0., 0., ..., 0., 0., 0.],\n",
       "       ...,\n",
       "       [0., 0., 0., ..., 0., 0., 0.],\n",
       "       [0., 0., 0., ..., 0., 0., 0.],\n",
       "       [0., 0., 0., ..., 0., 0., 0.]])"
      ]
     },
     "execution_count": 70,
     "metadata": {},
     "output_type": "execute_result"
    }
   ],
   "source": [
    "vectorizer = TfidfVectorizer(use_idf=True)\n",
    "csr_matrix = vectorizer.fit_transform(df['review_clean'])\n",
    "csr_matrix.toarray()"
   ]
  },
  {
   "cell_type": "code",
   "execution_count": 73,
   "metadata": {},
   "outputs": [
    {
     "data": {
      "text/plain": [
       "RandomForestClassifier(bootstrap=True, ccp_alpha=0.0, class_weight=None,\n",
       "                       criterion='gini', max_depth=None, max_features='auto',\n",
       "                       max_leaf_nodes=None, max_samples=None,\n",
       "                       min_impurity_decrease=0.0, min_impurity_split=None,\n",
       "                       min_samples_leaf=1, min_samples_split=2,\n",
       "                       min_weight_fraction_leaf=0.0, n_estimators=100,\n",
       "                       n_jobs=None, oob_score=False, random_state=0, verbose=0,\n",
       "                       warm_start=False)"
      ]
     },
     "execution_count": 73,
     "metadata": {},
     "output_type": "execute_result"
    }
   ],
   "source": [
    "X_train, X_test, y_train, y_test = train_test_split(\n",
    "    csr_matrix, df['sentiment_v'], stratify=df['sentiment_v'], test_size=0.3, random_state=1)\n",
    "\n",
    "rf_classifier = RandomForestClassifier(random_state=0)\n",
    "rf_classifier.fit(X_train, y_train)"
   ]
  },
  {
   "cell_type": "code",
   "execution_count": 74,
   "metadata": {},
   "outputs": [
    {
     "name": "stdout",
     "output_type": "stream",
     "text": [
      "              precision    recall  f1-score   support\n",
      "\n",
      "    negative       0.85      0.85      0.85      7500\n",
      "    positive       0.85      0.85      0.85      7500\n",
      "\n",
      "    accuracy                           0.85     15000\n",
      "   macro avg       0.85      0.85      0.85     15000\n",
      "weighted avg       0.85      0.85      0.85     15000\n",
      "\n"
     ]
    }
   ],
   "source": [
    "print(classification_report(y_test, rf_classifier.predict(X_test), target_names=['negative', 'positive']))"
   ]
  },
  {
   "cell_type": "markdown",
   "metadata": {},
   "source": [
    "## word2vec"
   ]
  },
  {
   "cell_type": "code",
   "execution_count": 52,
   "metadata": {},
   "outputs": [],
   "source": [
    "vector_path = './bin/GoogleNews-vectors-negative300.bin'\n",
    "word2vec_base = KeyedVectors.load_word2vec_format(vector_path, binary=True)"
   ]
  },
  {
   "cell_type": "code",
   "execution_count": 69,
   "metadata": {},
   "outputs": [],
   "source": [
    "# essay vectorization (300 components)\n",
    "essay_vectors = []\n",
    "for essay in df['review_clean']:\n",
    "    essay_vectors.append(swem_agg_vector(essay.split(' '), word2vec_base, 'avg'))"
   ]
  },
  {
   "cell_type": "code",
   "execution_count": 70,
   "metadata": {},
   "outputs": [],
   "source": [
    "X_train, X_test, y_train, y_test = train_test_split(\n",
    "    essay_vectors, df['sentiment_v'], stratify=df['sentiment_v'], test_size=0.3, random_state=1)"
   ]
  },
  {
   "cell_type": "code",
   "execution_count": 71,
   "metadata": {},
   "outputs": [
    {
     "data": {
      "text/plain": [
       "RandomForestClassifier(bootstrap=True, ccp_alpha=0.0, class_weight=None,\n",
       "                       criterion='gini', max_depth=None, max_features='auto',\n",
       "                       max_leaf_nodes=None, max_samples=None,\n",
       "                       min_impurity_decrease=0.0, min_impurity_split=None,\n",
       "                       min_samples_leaf=1, min_samples_split=2,\n",
       "                       min_weight_fraction_leaf=0.0, n_estimators=100,\n",
       "                       n_jobs=None, oob_score=False, random_state=0, verbose=0,\n",
       "                       warm_start=False)"
      ]
     },
     "execution_count": 71,
     "metadata": {},
     "output_type": "execute_result"
    }
   ],
   "source": [
    "rf_classifier = RandomForestClassifier(random_state=0)\n",
    "rf_classifier.fit(X_train, y_train)"
   ]
  },
  {
   "cell_type": "code",
   "execution_count": 72,
   "metadata": {},
   "outputs": [
    {
     "name": "stdout",
     "output_type": "stream",
     "text": [
      "              precision    recall  f1-score   support\n",
      "\n",
      "    negative       0.81      0.80      0.80      7500\n",
      "    positive       0.80      0.81      0.81      7500\n",
      "\n",
      "    accuracy                           0.81     15000\n",
      "   macro avg       0.81      0.81      0.81     15000\n",
      "weighted avg       0.81      0.81      0.81     15000\n",
      "\n"
     ]
    }
   ],
   "source": [
    "print(classification_report(y_test, rf_classifier.predict(X_test), target_names=['negative', 'positive']))"
   ]
  },
  {
   "cell_type": "markdown",
   "metadata": {},
   "source": [
    "The result is worser.\n",
    "I will investigate a little bit here. (Check the vectors and calculate the cosine similarity)"
   ]
  },
  {
   "cell_type": "markdown",
   "metadata": {},
   "source": [
    "### Check the similarity first (Cosine Similarity)"
   ]
  },
  {
   "cell_type": "code",
   "execution_count": 135,
   "metadata": {},
   "outputs": [
    {
     "data": {
      "text/html": [
       "<div>\n",
       "<style scoped>\n",
       "    .dataframe tbody tr th:only-of-type {\n",
       "        vertical-align: middle;\n",
       "    }\n",
       "\n",
       "    .dataframe tbody tr th {\n",
       "        vertical-align: top;\n",
       "    }\n",
       "\n",
       "    .dataframe thead th {\n",
       "        text-align: right;\n",
       "    }\n",
       "</style>\n",
       "<table border=\"1\" class=\"dataframe\">\n",
       "  <thead>\n",
       "    <tr style=\"text-align: right;\">\n",
       "      <th></th>\n",
       "      <th>review</th>\n",
       "      <th>review_clean</th>\n",
       "      <th>sentiment</th>\n",
       "    </tr>\n",
       "  </thead>\n",
       "  <tbody>\n",
       "    <tr>\n",
       "      <th>0</th>\n",
       "      <td>One of the other reviewers has mentioned that after watching just 1 Oz episode you'll be hooked. They are right, as this is exactly what happened with me.&lt;br /&gt;&lt;br /&gt;The first thing that struck me about Oz was its brutality and unflinching scenes of violence, which set in right from the word GO. Trust me, this is not a show for the faint hearted or timid. This show pulls no punches with regards to drugs, sex or violence. Its is hardcore, in the classic use of the word.&lt;br /&gt;&lt;br /&gt;It is calle...</td>\n",
       "      <td>one reviewer mention watch 1 oz episode hooked right exactly happen methe first thing strike oz brutality unflinching scene violence set right word go trust me show faint hearted timid show pull punch regard drugs sex violence hardcore classic use wordit call oz nickname give oswald maximum security state penitentary focus mainly emerald city experimental section prison cell glass front face inwards privacy high agenda em city home manyaryans muslims gangstas latinos christians italians iris...</td>\n",
       "      <td>positive</td>\n",
       "    </tr>\n",
       "    <tr>\n",
       "      <th>25999</th>\n",
       "      <td>HBO created this show for purposes of making us see the most realistic view of prison possible and they did a hell of a job. Oz was created by the creators of Homicide who wanted to show a raw version of prison. This show is what launched the idea of every other HBO Original Program such as The Sopranos, Sex and the City, The Wire, Arliss, Deadwood, and Six Feet Under amongst others. Oz is the nickname for the Oswald State Penetentiary, a fictional prison in some US state which is never stat...</td>\n",
       "      <td>hbo create show purpose make u see realistic view prison possible hell job oz create creator homicide want show raw version prison show launch idea every hbo original program sopranos sex city wire arliss deadwood six foot amongst others oz nickname oswald state penetentiary fictional prison u state never state though accents crime scenes racial distribution ny assumed main prison unit look show emerald city seemingly ideal prison unit privlages others think liberal unit manager name tim mcm...</td>\n",
       "      <td>positive</td>\n",
       "    </tr>\n",
       "    <tr>\n",
       "      <th>37257</th>\n",
       "      <td>Please humour me if you will, for a minute while I read you the back of the ALLEY CAT VHS box. It says that:&lt;br /&gt;&lt;br /&gt;In this part of the city every street is a dead end- on every corner something to buy- in every alley another way to die- To survive you're got to be the best- just like the Alley Cat. Alley Cat- this lady owns the night. On the streets where even the predators become victims she knows how to survive- Cross her and you've run out of luck. Alley Cat- This animal is aroused.&lt;...</td>\n",
       "      <td>please humour will minute read back alley cat vhs box say thatin part city every street dead end every corner something buy every alley another way die survive get best like alley cat alley cat lady own night street even predator become victim know survive cross run luck alley cat animal arousednow one pathetic blurb ever hear life whoever write must insane think awful description could tempt u view video yet unfortunately whichever faceless individual responsible tragic use english job well...</td>\n",
       "      <td>negative</td>\n",
       "    </tr>\n",
       "    <tr>\n",
       "      <th>10434</th>\n",
       "      <td>Well where to start here? Straightheads presents me with a bit of a dilemma. Had this film come out of Italy in, say, 1975, been directed by Ruggero Deodatto and starred David Hess, then I'd be lapping it up faster than Labrador drinks water on a summer's day. Because whilst Tarantino and Rodriguez are busy elsewhere with their homage to grindhouse cinema, Dan Reed has produced a rape/revenge grindhouse picture of his very own in England, and on seemingly the same budget as it would have tak...</td>\n",
       "      <td>well start here straightheads present bite dilemma film come italy in say 1975 direct ruggero deodatto star david hess id lap faster labrador drink water summers day whilst tarantino rodriguez busy elsewhere homage grindhouse cinema dan reed produce raperevenge grindhouse picture england seemingly budget would take rodriguez turn rise mcgowans leg machine gun want play grindhouse bingo let call numbers 1 rich high fly career woman meet bite rough wrong side track implausible manner and equal...</td>\n",
       "      <td>negative</td>\n",
       "    </tr>\n",
       "    <tr>\n",
       "      <th>30292</th>\n",
       "      <td>First of all, season 1 is intolerably bad. The prison is ridiculously unrealistic, the characters are so two dimensional they're nearly transparent, and the direction is terrible. It runs like a bad video of a junior high school play, characters wandering past the camera and uttering highly timed and rehearsed lines, passing off as random prison talk. Soon the show gets better, but not by much. The return from the commercial break is always accompanied by some ridiculous monologue by wheelch...</td>\n",
       "      <td>first all season 1 intolerably bad prison ridiculously unrealistic character two dimensional theyre nearly transparent direction terrible run like bad video junior high school play character wander past camera utter highly time rehearse lines pas random prison talk soon show get better much return commercial break always accompany ridiculous monologue wheelchairbound augustus hill play impressively harold perrineau time character consistently bad bad performance art monologues take place ine...</td>\n",
       "      <td>negative</td>\n",
       "    </tr>\n",
       "    <tr>\n",
       "      <th>7881</th>\n",
       "      <td>This infamous ending to Koen Wauters' career came to my attention through the 'Night of Bad Taste'. Judging by the comment index i wasn't the first and i am not to be the last person in Western Europe to learn that this musician (undoubtedly one of the best on our contemporary pop scene, even the Dutch agree on that) tried to be an actor. Whether he should have made the attempt or not cannot be judged. &lt;br /&gt;&lt;br /&gt;In 'Intensive Care' he's quite likable, but he seems to be uncomfortable with ...</td>\n",
       "      <td>infamous end koen wauters career come attention night bad taste judge comment index first last person western europe learn musician undoubtedly one best contemporary pop scene even dutch agree that try actor whether make attempt cannot judged intensive care hes quite likable seem uncomfortable flick participating one blame him deserve rank verheyens hall fame mean  standards story murderous maniac suppose die accident alive wrathful tell dozen time before even without original twist director...</td>\n",
       "      <td>negative</td>\n",
       "    </tr>\n",
       "    <tr>\n",
       "      <th>18129</th>\n",
       "      <td>To speak relatively, if one were only to see now Hector Babenco's \"Pixote\" (1981, Brazil;pronounced as \"pi-shot\"), after having seen quite a number of films that deal with street children, juvenile delinquents, kids in trouble (Truffaut's \"The 400 Blows\", Bunuel's \"Los Olvidados\", De Sica's \"Shoeshine\", Nair's \"Salaam, Bombay!\", Bresson's \"Mouchette\", Nugroho's \"Leaf on a Pillow\", etc.), one might be afraid that the plight of the kid portrayed in the film might not affect one anymore, having...</td>\n",
       "      <td>speak relatively one see hector babencos pixote 1981 brazilpronounced pishot see quite number film deal street children juvenile delinquents kid trouble truffauts the 400 blows bunuels los olvidados de sicas shoeshine nairs salaam bombay bressons mouchette nugrohos leaf pillow etc one might afraid plight kid portray film might affect one anymore desynthesized already go emotional rollercoaster ride put motion previously quote filmsthankfully case babenco narrate film matteroffact manner artl...</td>\n",
       "      <td>positive</td>\n",
       "    </tr>\n",
       "    <tr>\n",
       "      <th>22795</th>\n",
       "      <td>I'm astounded and dismayed by the number of reviewers on this site who did not get the point of Black Snake Moan. It's not about black/white relationships or old/young relationships, though I think director Craig Brewer deliberately threw in both elements to tweak imagined taboos. It's not about sexual abuse or sex addiction, though Christina Ricci's character, Rae, typifies those. It's not about folk religion in the black community, though religion plays a large role. It's not a love story,...</td>\n",
       "      <td>im astound dismay number reviewer site get point black snake moan blackwhite relationship oldyoung relationships though think director craig brewer deliberately throw element tweak imagine taboos sexual abuse sex addiction though christina riccis character rae typify those folk religion black community though religion play large role love story though one two happy couple end certainly south everything hotter though set south undeniably hot holy smokes even tagline writer get pointblack snak...</td>\n",
       "      <td>positive</td>\n",
       "    </tr>\n",
       "    <tr>\n",
       "      <th>27945</th>\n",
       "      <td>The Running Man is often dismissed as being just another Arnie action thriller full of explosions, bad puns and gunfire, and to be fair, there is a lot of that in it. People used to look at it and compare it to the Terminator series, saying it was one of the poorer Schwarzenegger films.&lt;br /&gt;&lt;br /&gt;But, give it 18 years, and you find yourself being able to appreciate it in a different light. Rather than just being another brainless action film, it works very well as a parody of reality TV. It...</td>\n",
       "      <td>run man often dismiss another arnie action thriller full explosions bad pun gunfire fair lot it people use look compare terminator series say one poorer schwarzenegger filmsbut give 18 years find able appreciate different light rather another brainless action film work well parody reality tv quite different stephen king book true doubt whether hollywood love upbeat end socalled ordinary guys turn skill train commando would accept current formbut reviewben richards arnold schwarzenegger cop w...</td>\n",
       "      <td>positive</td>\n",
       "    </tr>\n",
       "    <tr>\n",
       "      <th>29676</th>\n",
       "      <td>Heavy-handed moralism. Writers using characters as mouthpieces to speak for themselves. Predictable, plodding plot points (say that five times fast). A child's imitation of Britney Spears. This film has all the earmarks of a Lifetime Special reject.&lt;br /&gt;&lt;br /&gt;I honestly believe that Jesus Nebot and Julia Montejo set out to create a thought-provoking, emotional film on a tough subject, exploring the idea that things are not always black and white, that one who is a criminal by definition is ...</td>\n",
       "      <td>heavyhanded moralism writer use character mouthpiece speak themselves predictable plod plot point say five time fast childs imitation britney spears film earmark lifetime special rejecti honestly believe jesus nebot julia montejo set create thoughtprovoking emotional film tough subject explore idea thing always black white one criminal definition necessarily bad human being extenuate circumstances especially one put wellbeing child first however earnestness end channel preachy dialogue trite...</td>\n",
       "      <td>negative</td>\n",
       "    </tr>\n",
       "  </tbody>\n",
       "</table>\n",
       "</div>"
      ],
      "text/plain": [
       "                                                                                                                                                                                                                                                                                                                                                                                                                                                                                                                    review                                                                                                                                                                                                                                                                                                                                                                                                                                                                                                         review_clean sentiment\n",
       "0      One of the other reviewers has mentioned that after watching just 1 Oz episode you'll be hooked. They are right, as this is exactly what happened with me.<br /><br />The first thing that struck me about Oz was its brutality and unflinching scenes of violence, which set in right from the word GO. Trust me, this is not a show for the faint hearted or timid. This show pulls no punches with regards to drugs, sex or violence. Its is hardcore, in the classic use of the word.<br /><br />It is calle...  one reviewer mention watch 1 oz episode hooked right exactly happen methe first thing strike oz brutality unflinching scene violence set right word go trust me show faint hearted timid show pull punch regard drugs sex violence hardcore classic use wordit call oz nickname give oswald maximum security state penitentary focus mainly emerald city experimental section prison cell glass front face inwards privacy high agenda em city home manyaryans muslims gangstas latinos christians italians iris...  positive\n",
       "25999  HBO created this show for purposes of making us see the most realistic view of prison possible and they did a hell of a job. Oz was created by the creators of Homicide who wanted to show a raw version of prison. This show is what launched the idea of every other HBO Original Program such as The Sopranos, Sex and the City, The Wire, Arliss, Deadwood, and Six Feet Under amongst others. Oz is the nickname for the Oswald State Penetentiary, a fictional prison in some US state which is never stat...  hbo create show purpose make u see realistic view prison possible hell job oz create creator homicide want show raw version prison show launch idea every hbo original program sopranos sex city wire arliss deadwood six foot amongst others oz nickname oswald state penetentiary fictional prison u state never state though accents crime scenes racial distribution ny assumed main prison unit look show emerald city seemingly ideal prison unit privlages others think liberal unit manager name tim mcm...  positive\n",
       "37257  Please humour me if you will, for a minute while I read you the back of the ALLEY CAT VHS box. It says that:<br /><br />In this part of the city every street is a dead end- on every corner something to buy- in every alley another way to die- To survive you're got to be the best- just like the Alley Cat. Alley Cat- this lady owns the night. On the streets where even the predators become victims she knows how to survive- Cross her and you've run out of luck. Alley Cat- This animal is aroused.<...  please humour will minute read back alley cat vhs box say thatin part city every street dead end every corner something buy every alley another way die survive get best like alley cat alley cat lady own night street even predator become victim know survive cross run luck alley cat animal arousednow one pathetic blurb ever hear life whoever write must insane think awful description could tempt u view video yet unfortunately whichever faceless individual responsible tragic use english job well...  negative\n",
       "10434  Well where to start here? Straightheads presents me with a bit of a dilemma. Had this film come out of Italy in, say, 1975, been directed by Ruggero Deodatto and starred David Hess, then I'd be lapping it up faster than Labrador drinks water on a summer's day. Because whilst Tarantino and Rodriguez are busy elsewhere with their homage to grindhouse cinema, Dan Reed has produced a rape/revenge grindhouse picture of his very own in England, and on seemingly the same budget as it would have tak...  well start here straightheads present bite dilemma film come italy in say 1975 direct ruggero deodatto star david hess id lap faster labrador drink water summers day whilst tarantino rodriguez busy elsewhere homage grindhouse cinema dan reed produce raperevenge grindhouse picture england seemingly budget would take rodriguez turn rise mcgowans leg machine gun want play grindhouse bingo let call numbers 1 rich high fly career woman meet bite rough wrong side track implausible manner and equal...  negative\n",
       "30292  First of all, season 1 is intolerably bad. The prison is ridiculously unrealistic, the characters are so two dimensional they're nearly transparent, and the direction is terrible. It runs like a bad video of a junior high school play, characters wandering past the camera and uttering highly timed and rehearsed lines, passing off as random prison talk. Soon the show gets better, but not by much. The return from the commercial break is always accompanied by some ridiculous monologue by wheelch...  first all season 1 intolerably bad prison ridiculously unrealistic character two dimensional theyre nearly transparent direction terrible run like bad video junior high school play character wander past camera utter highly time rehearse lines pas random prison talk soon show get better much return commercial break always accompany ridiculous monologue wheelchairbound augustus hill play impressively harold perrineau time character consistently bad bad performance art monologues take place ine...  negative\n",
       "7881   This infamous ending to Koen Wauters' career came to my attention through the 'Night of Bad Taste'. Judging by the comment index i wasn't the first and i am not to be the last person in Western Europe to learn that this musician (undoubtedly one of the best on our contemporary pop scene, even the Dutch agree on that) tried to be an actor. Whether he should have made the attempt or not cannot be judged. <br /><br />In 'Intensive Care' he's quite likable, but he seems to be uncomfortable with ...  infamous end koen wauters career come attention night bad taste judge comment index first last person western europe learn musician undoubtedly one best contemporary pop scene even dutch agree that try actor whether make attempt cannot judged intensive care hes quite likable seem uncomfortable flick participating one blame him deserve rank verheyens hall fame mean  standards story murderous maniac suppose die accident alive wrathful tell dozen time before even without original twist director...  negative\n",
       "18129  To speak relatively, if one were only to see now Hector Babenco's \"Pixote\" (1981, Brazil;pronounced as \"pi-shot\"), after having seen quite a number of films that deal with street children, juvenile delinquents, kids in trouble (Truffaut's \"The 400 Blows\", Bunuel's \"Los Olvidados\", De Sica's \"Shoeshine\", Nair's \"Salaam, Bombay!\", Bresson's \"Mouchette\", Nugroho's \"Leaf on a Pillow\", etc.), one might be afraid that the plight of the kid portrayed in the film might not affect one anymore, having...  speak relatively one see hector babencos pixote 1981 brazilpronounced pishot see quite number film deal street children juvenile delinquents kid trouble truffauts the 400 blows bunuels los olvidados de sicas shoeshine nairs salaam bombay bressons mouchette nugrohos leaf pillow etc one might afraid plight kid portray film might affect one anymore desynthesized already go emotional rollercoaster ride put motion previously quote filmsthankfully case babenco narrate film matteroffact manner artl...  positive\n",
       "22795  I'm astounded and dismayed by the number of reviewers on this site who did not get the point of Black Snake Moan. It's not about black/white relationships or old/young relationships, though I think director Craig Brewer deliberately threw in both elements to tweak imagined taboos. It's not about sexual abuse or sex addiction, though Christina Ricci's character, Rae, typifies those. It's not about folk religion in the black community, though religion plays a large role. It's not a love story,...  im astound dismay number reviewer site get point black snake moan blackwhite relationship oldyoung relationships though think director craig brewer deliberately throw element tweak imagine taboos sexual abuse sex addiction though christina riccis character rae typify those folk religion black community though religion play large role love story though one two happy couple end certainly south everything hotter though set south undeniably hot holy smokes even tagline writer get pointblack snak...  positive\n",
       "27945  The Running Man is often dismissed as being just another Arnie action thriller full of explosions, bad puns and gunfire, and to be fair, there is a lot of that in it. People used to look at it and compare it to the Terminator series, saying it was one of the poorer Schwarzenegger films.<br /><br />But, give it 18 years, and you find yourself being able to appreciate it in a different light. Rather than just being another brainless action film, it works very well as a parody of reality TV. It...  run man often dismiss another arnie action thriller full explosions bad pun gunfire fair lot it people use look compare terminator series say one poorer schwarzenegger filmsbut give 18 years find able appreciate different light rather another brainless action film work well parody reality tv quite different stephen king book true doubt whether hollywood love upbeat end socalled ordinary guys turn skill train commando would accept current formbut reviewben richards arnold schwarzenegger cop w...  positive\n",
       "29676  Heavy-handed moralism. Writers using characters as mouthpieces to speak for themselves. Predictable, plodding plot points (say that five times fast). A child's imitation of Britney Spears. This film has all the earmarks of a Lifetime Special reject.<br /><br />I honestly believe that Jesus Nebot and Julia Montejo set out to create a thought-provoking, emotional film on a tough subject, exploring the idea that things are not always black and white, that one who is a criminal by definition is ...  heavyhanded moralism writer use character mouthpiece speak themselves predictable plod plot point say five time fast childs imitation britney spears film earmark lifetime special rejecti honestly believe jesus nebot julia montejo set create thoughtprovoking emotional film tough subject explore idea thing always black white one criminal definition necessarily bad human being extenuate circumstances especially one put wellbeing child first however earnestness end channel preachy dialogue trite...  negative"
      ]
     },
     "execution_count": 135,
     "metadata": {},
     "output_type": "execute_result"
    }
   ],
   "source": [
    "target_index = 0\n",
    "\n",
    "cosine_distance = {}\n",
    "for idx in range(len(essay_vectors)):\n",
    "    cosine_distance[idx] = cos_similarity(essay_vectors[idx], essay_vectors[target_index])\n",
    "\n",
    "cosine_distance_df = pd.DataFrame.from_dict(cosine_distance, orient='index', columns=['d'])\n",
    "top_N_idx = cosine_distance_df.sort_values(ascending=False, by='d').index[:10]\n",
    "df[['review', 'review_clean','sentiment']].iloc[top_N_idx]"
   ]
  },
  {
   "cell_type": "markdown",
   "metadata": {},
   "source": [
    "* It seems that the aggregation of word2vec of each essay does not function very well here.\n",
    "    * The Cosine similarity is not related to sentiment very much."
   ]
  },
  {
   "cell_type": "markdown",
   "metadata": {},
   "source": [
    "#### similarity (distance) comparison\n",
    "* ref: https://towardsdatascience.com/calculate-similarity-the-most-relevant-metrics-in-a-nutshell-9a43564f533e\n",
    "* ref: https://www.itread01.com/content/1547340135.html"
   ]
  },
  {
   "cell_type": "code",
   "execution_count": 55,
   "metadata": {},
   "outputs": [
    {
     "data": {
      "text/plain": [
       "<matplotlib.collections.PathCollection at 0x1a1d6bd990>"
      ]
     },
     "execution_count": 55,
     "metadata": {},
     "output_type": "execute_result"
    },
    {
     "data": {
      "image/png": "[encoded data removed]",
      "text/plain": [
       "<Figure size 432x288 with 1 Axes>"
      ]
     },
     "metadata": {
      "needs_background": "light"
     },
     "output_type": "display_data"
    }
   ],
   "source": [
    "X = np.array([[0,1],[0.5,0.5], [0.9,0.75],[1,1],[1,0],])\n",
    "plt.scatter(X[:,0], X[:,1])"
   ]
  },
  {
   "cell_type": "code",
   "execution_count": 56,
   "metadata": {},
   "outputs": [
    {
     "data": {
      "text/plain": [
       "array([[1.        , 0.70710678, 0.6401844 , 0.70710678, 0.        ],\n",
       "       [0.70710678, 1.        , 0.99589321, 1.        , 0.70710678],\n",
       "       [0.6401844 , 0.99589321, 1.        , 0.99589321, 0.76822128],\n",
       "       [0.70710678, 1.        , 0.99589321, 1.        , 0.70710678],\n",
       "       [0.        , 0.70710678, 0.76822128, 0.70710678, 1.        ]])"
      ]
     },
     "execution_count": 56,
     "metadata": {},
     "output_type": "execute_result"
    }
   ],
   "source": [
    "# Cosine Similarity\n",
    "from sklearn.metrics.pairwise import cosine_similarity\n",
    "cosine_similarity(X)"
   ]
  },
  {
   "cell_type": "code",
   "execution_count": 57,
   "metadata": {},
   "outputs": [
    {
     "data": {
      "text/plain": [
       "array([[2.92893219e-01, 3.59815600e-01, 2.92893219e-01, 1.00000000e+00,\n",
       "        4.10679353e-03],\n",
       "       [2.22044605e-16, 2.92893219e-01, 4.10679353e-03, 2.31778720e-01,\n",
       "        2.92893219e-01]])"
      ]
     },
     "execution_count": 57,
     "metadata": {},
     "output_type": "execute_result"
    }
   ],
   "source": [
    "from scipy.spatial.distance import pdist\n",
    "pdist(X, metric='cosine').reshape(2,5)"
   ]
  },
  {
   "cell_type": "code",
   "execution_count": 58,
   "metadata": {},
   "outputs": [
    {
     "data": {
      "text/plain": [
       "array([[0.        , 0.70710678, 0.93407708, 1.        , 1.41421356],\n",
       "       [0.70710678, 0.        , 0.47169906, 0.70710678, 0.70710678],\n",
       "       [0.93407708, 0.47169906, 0.        , 0.26925824, 0.7566373 ],\n",
       "       [1.        , 0.70710678, 0.26925824, 0.        , 1.        ],\n",
       "       [1.41421356, 0.70710678, 0.7566373 , 1.        , 0.        ]])"
      ]
     },
     "execution_count": 58,
     "metadata": {},
     "output_type": "execute_result"
    }
   ],
   "source": [
    "# Euclidean Distance\n",
    "from scipy.spatial import distance\n",
    "euclid = []\n",
    "for i in range(len(X)):\n",
    "    for j in range(len(X)):\n",
    "        euclid.append(distance.euclidean(X[i],X[j]))\n",
    "np.array(euclid).reshape(len(X),len(X))"
   ]
  },
  {
   "cell_type": "code",
   "execution_count": 59,
   "metadata": {},
   "outputs": [
    {
     "data": {
      "text/plain": [
       "array([[0.70710678, 0.93407708, 1.        , 1.41421356, 0.47169906],\n",
       "       [0.70710678, 0.70710678, 0.26925824, 0.7566373 , 1.        ]])"
      ]
     },
     "execution_count": 59,
     "metadata": {},
     "output_type": "execute_result"
    }
   ],
   "source": [
    "from scipy.spatial.distance import pdist\n",
    "pdist(X, metric='euclidean').reshape(2,5)"
   ]
  },
  {
   "cell_type": "code",
   "execution_count": 60,
   "metadata": {},
   "outputs": [
    {
     "data": {
      "text/plain": [
       "array([[0.  , 1.  , 1.15, 1.  , 2.  ],\n",
       "       [1.  , 0.  , 0.65, 1.  , 1.  ],\n",
       "       [1.15, 0.65, 0.  , 0.35, 0.85],\n",
       "       [1.  , 1.  , 0.35, 0.  , 1.  ],\n",
       "       [2.  , 1.  , 0.85, 1.  , 0.  ]])"
      ]
     },
     "execution_count": 60,
     "metadata": {},
     "output_type": "execute_result"
    }
   ],
   "source": [
    "# Manhattan Distance\n",
    "from scipy.spatial import distance\n",
    "\n",
    "manhad = []\n",
    "for i in range(len(X)):\n",
    "    for j in range(len(X)):\n",
    "        manhad.append(distance.cityblock(X[i],X[j]))\n",
    "np.array(manhad).reshape(len(X),len(X))"
   ]
  },
  {
   "cell_type": "code",
   "execution_count": 61,
   "metadata": {},
   "outputs": [
    {
     "data": {
      "text/plain": [
       "array([[1.  , 1.15, 1.  , 2.  , 0.65],\n",
       "       [1.  , 1.  , 0.35, 0.85, 1.  ]])"
      ]
     },
     "execution_count": 61,
     "metadata": {},
     "output_type": "execute_result"
    }
   ],
   "source": [
    "from scipy.spatial.distance import pdist\n",
    "pdist(X, metric='cityblock').reshape(2,5)"
   ]
  },
  {
   "cell_type": "code",
   "execution_count": 66,
   "metadata": {},
   "outputs": [
    {
     "ename": "ValueError",
     "evalue": "shapes (2,) and (5,5) not aligned: 2 (dim 0) != 5 (dim 0)",
     "output_type": "error",
     "traceback": [
      "\u001b[0;31m---------------------------------------------------------------------------\u001b[0m",
      "\u001b[0;31mValueError\u001b[0m                                Traceback (most recent call last)",
      "\u001b[0;32m<ipython-input-66-9f14ef4c099c>\u001b[0m in \u001b[0;36m<module>\u001b[0;34m\u001b[0m\n\u001b[1;32m     10\u001b[0m \u001b[0;32mfor\u001b[0m \u001b[0mi\u001b[0m \u001b[0;32min\u001b[0m \u001b[0mrange\u001b[0m\u001b[0;34m(\u001b[0m\u001b[0mlen\u001b[0m\u001b[0;34m(\u001b[0m\u001b[0mX\u001b[0m\u001b[0;34m)\u001b[0m\u001b[0;34m)\u001b[0m\u001b[0;34m:\u001b[0m\u001b[0;34m\u001b[0m\u001b[0;34m\u001b[0m\u001b[0m\n\u001b[1;32m     11\u001b[0m     \u001b[0;32mfor\u001b[0m \u001b[0mj\u001b[0m \u001b[0;32min\u001b[0m \u001b[0mrange\u001b[0m\u001b[0;34m(\u001b[0m\u001b[0mlen\u001b[0m\u001b[0;34m(\u001b[0m\u001b[0mX\u001b[0m\u001b[0;34m)\u001b[0m\u001b[0;34m)\u001b[0m\u001b[0;34m:\u001b[0m\u001b[0;34m\u001b[0m\u001b[0;34m\u001b[0m\u001b[0m\n\u001b[0;32m---> 12\u001b[0;31m         \u001b[0mmahala\u001b[0m\u001b[0;34m.\u001b[0m\u001b[0mappend\u001b[0m\u001b[0;34m(\u001b[0m\u001b[0mdistance\u001b[0m\u001b[0;34m.\u001b[0m\u001b[0mmahalanobis\u001b[0m\u001b[0;34m(\u001b[0m\u001b[0mX\u001b[0m\u001b[0;34m[\u001b[0m\u001b[0mi\u001b[0m\u001b[0;34m]\u001b[0m\u001b[0;34m,\u001b[0m\u001b[0mX\u001b[0m\u001b[0;34m[\u001b[0m\u001b[0mj\u001b[0m\u001b[0;34m]\u001b[0m\u001b[0;34m,\u001b[0m\u001b[0mIV\u001b[0m\u001b[0;34m)\u001b[0m\u001b[0;34m)\u001b[0m\u001b[0;34m\u001b[0m\u001b[0;34m\u001b[0m\u001b[0m\n\u001b[0m\u001b[1;32m     13\u001b[0m \u001b[0;34m\u001b[0m\u001b[0m\n\u001b[1;32m     14\u001b[0m \u001b[0mnp\u001b[0m\u001b[0;34m.\u001b[0m\u001b[0marray\u001b[0m\u001b[0;34m(\u001b[0m\u001b[0mmahala\u001b[0m\u001b[0;34m)\u001b[0m\u001b[0;34m.\u001b[0m\u001b[0mreshape\u001b[0m\u001b[0;34m(\u001b[0m\u001b[0mlen\u001b[0m\u001b[0;34m(\u001b[0m\u001b[0mX\u001b[0m\u001b[0;34m)\u001b[0m\u001b[0;34m,\u001b[0m\u001b[0mlen\u001b[0m\u001b[0;34m(\u001b[0m\u001b[0mX\u001b[0m\u001b[0;34m)\u001b[0m\u001b[0;34m)\u001b[0m\u001b[0;34m\u001b[0m\u001b[0;34m\u001b[0m\u001b[0m\n",
      "\u001b[0;32m~/miniconda3/lib/python3.7/site-packages/scipy/spatial/distance.py\u001b[0m in \u001b[0;36mmahalanobis\u001b[0;34m(u, v, VI)\u001b[0m\n\u001b[1;32m   1081\u001b[0m     \u001b[0mVI\u001b[0m \u001b[0;34m=\u001b[0m \u001b[0mnp\u001b[0m\u001b[0;34m.\u001b[0m\u001b[0matleast_2d\u001b[0m\u001b[0;34m(\u001b[0m\u001b[0mVI\u001b[0m\u001b[0;34m)\u001b[0m\u001b[0;34m\u001b[0m\u001b[0;34m\u001b[0m\u001b[0m\n\u001b[1;32m   1082\u001b[0m     \u001b[0mdelta\u001b[0m \u001b[0;34m=\u001b[0m \u001b[0mu\u001b[0m \u001b[0;34m-\u001b[0m \u001b[0mv\u001b[0m\u001b[0;34m\u001b[0m\u001b[0;34m\u001b[0m\u001b[0m\n\u001b[0;32m-> 1083\u001b[0;31m     \u001b[0mm\u001b[0m \u001b[0;34m=\u001b[0m \u001b[0mnp\u001b[0m\u001b[0;34m.\u001b[0m\u001b[0mdot\u001b[0m\u001b[0;34m(\u001b[0m\u001b[0mnp\u001b[0m\u001b[0;34m.\u001b[0m\u001b[0mdot\u001b[0m\u001b[0;34m(\u001b[0m\u001b[0mdelta\u001b[0m\u001b[0;34m,\u001b[0m \u001b[0mVI\u001b[0m\u001b[0;34m)\u001b[0m\u001b[0;34m,\u001b[0m \u001b[0mdelta\u001b[0m\u001b[0;34m)\u001b[0m\u001b[0;34m\u001b[0m\u001b[0;34m\u001b[0m\u001b[0m\n\u001b[0m\u001b[1;32m   1084\u001b[0m     \u001b[0;32mreturn\u001b[0m \u001b[0mnp\u001b[0m\u001b[0;34m.\u001b[0m\u001b[0msqrt\u001b[0m\u001b[0;34m(\u001b[0m\u001b[0mm\u001b[0m\u001b[0;34m)\u001b[0m\u001b[0;34m\u001b[0m\u001b[0;34m\u001b[0m\u001b[0m\n\u001b[1;32m   1085\u001b[0m \u001b[0;34m\u001b[0m\u001b[0m\n",
      "\u001b[0;32m<__array_function__ internals>\u001b[0m in \u001b[0;36mdot\u001b[0;34m(*args, **kwargs)\u001b[0m\n",
      "\u001b[0;31mValueError\u001b[0m: shapes (2,) and (5,5) not aligned: 2 (dim 0) != 5 (dim 0)"
     ]
    }
   ],
   "source": [
    "# mahalanobis distance (need to calculate inverse of covariate matrix in advance)\n",
    "from scipy.spatial import distance\n",
    "\n",
    "mahala = []\n",
    "\n",
    "cov_matrix = np.cov(X)\n",
    "#IV = np.linalg.inv(cov_matrix)\n",
    "IV = np.linalg.pinv(cov_matrix)\n",
    "\n",
    "for i in range(len(X)):\n",
    "    for j in range(len(X)):\n",
    "        mahala.append(distance.mahalanobis(X[i],X[j],IV))\n",
    "        \n",
    "np.array(mahala).reshape(len(X),len(X))"
   ]
  },
  {
   "cell_type": "code",
   "execution_count": 65,
   "metadata": {},
   "outputs": [
    {
     "data": {
      "text/plain": [
       "array([[ 0.48893704,  0.        , -0.07334056,  0.        , -0.48893704],\n",
       "       [ 0.        ,  0.        ,  0.        ,  0.        ,  0.        ],\n",
       "       [-0.07334056,  0.        ,  0.01100108,  0.        ,  0.07334056],\n",
       "       [ 0.        ,  0.        ,  0.        ,  0.        ,  0.        ],\n",
       "       [-0.48893704,  0.        ,  0.07334056,  0.        ,  0.48893704]])"
      ]
     },
     "execution_count": 65,
     "metadata": {},
     "output_type": "execute_result"
    }
   ],
   "source": [
    "IV"
   ]
  },
  {
   "cell_type": "code",
   "execution_count": 49,
   "metadata": {},
   "outputs": [
    {
     "data": {
      "text/plain": [
       "array([1.41421356, 1.80277564, 2.64575131, 2.82842712, 1.11803399,\n",
       "       2.23606798, 1.41421356, 1.11803399, 1.80277564, 2.64575131])"
      ]
     },
     "execution_count": 49,
     "metadata": {},
     "output_type": "execute_result"
    }
   ],
   "source": [
    "from scipy.spatial.distance import pdist\n",
    "pdist(X,'mahalanobis')"
   ]
  },
  {
   "cell_type": "code",
   "execution_count": null,
   "metadata": {},
   "outputs": [],
   "source": [
    "# Cosine Similarity\n",
    "from sklearn.metrics.pairwise import cosine_similarity\n",
    "cos_sim = cosine_similarity(x.reshape(1,-1),y.reshape(1,-1))\n",
    "print('Cosine similarity: %.3f' % cos_sim)\n",
    "\n",
    "\n",
    "# Euclidean Distance\n",
    "from scipy.spatial import distance\n",
    "dst = distance.euclidean(x,y)\n",
    "print(‘Euclidean distance: %.3f’ % dst)\n",
    "\n",
    "# Manhattan Distance\n",
    "from scipy.spatial import distance\n",
    "dst = distance.cityblock(x,y)\n",
    "print(‘Manhattan distance: %.3f’ % dst)\n",
    "\n",
    "\n",
    "# mahalanobis distance (need to calculate inverse of covariate matrix in advance)\n",
    "from scipy.spatial import distance\n",
    "iv = [[1, 0.5, 0.5], [0.5, 1, 0.5], [0.5, 0.5, 1]]\n",
    "distance.mahalanobis([1, 0, 0], [0, 1, 0], iv)\n",
    "distance.mahalanobis([0, 2, 0], [0, 1, 0], iv)\n",
    "distance.mahalanobis([2, 0, 0], [0, 1, 0], iv)"
   ]
  },
  {
   "cell_type": "markdown",
   "metadata": {},
   "source": [
    "### Check the SWEM\n",
    "* [using the sentence shorter from the news site](https://www.testbig.com/forum/sentences-positivenegativeneutral-sentiment)"
   ]
  },
  {
   "cell_type": "code",
   "execution_count": 215,
   "metadata": {},
   "outputs": [],
   "source": [
    "self_sentence_df = pd.DataFrame(np.array(['Mac pc is very useful.',  # opposite test\n",
    "'Mac pc is terrible',    # opposite test\n",
    "'Lisa is glad to help you',    # synonyms test\n",
    "'Lisa is willing to help you', # synonyms test\n",
    "'She said she is pleased to assist!',  # synonyms test \n",
    "\"She doesn't want to help anyone.\",    # synonyms + opposite test\n",
    "'assist', # synonyms test 2\n",
    "'help',   # synonyms test 2\n",
    "'support',   # synonyms test 2\n",
    "'aid',   # synonyms test 2\n",
    "'love',   # synonyms test 3\n",
    "'hate',   # synonyms test 3\n",
    "'I love this car.',\n",
    "'This view is amazing.',\n",
    "'I feel great this morning.',\n",
    "'I am so excited about the concert.',\n",
    "'He is my best friend.',\n",
    "'I do not like this car.',\n",
    "'This view is horrible.',\n",
    "'I feel tired this morning.',\n",
    "'I am not looking forward to the concert.',\n",
    "'He is my enemy.']), columns=['text'])"
   ]
  },
  {
   "cell_type": "code",
   "execution_count": 259,
   "metadata": {},
   "outputs": [],
   "source": [
    "self_sentence_df = pd.DataFrame(np.array([\n",
    "# topic\n",
    "'Gender Discrimination',\n",
    "# related topic 1 ('Gender Discrimination')\n",
    "\"Girls and women suffer most of the negative impact of rigid gender norms and roles - they are more likely to experience restrictions of their freedom and mobility, they experience epidemic levels of violence and harassment across the globe and have fewer opportunities to choose how to live their lives. But boys and men suffer too. Ideas about what it means to be a man force boys and men to behave in very limited ways which can harm them. Negative masculinities encouraged in boys serve to perpetuate the cycle of discrimination and inequality. Denying people the freedom to choose their path in life because of their gender prevents them from fulfilling their full potential. There is lots we can do to help build a more gender-equal world. Understanding the deep roots of gender inequality and challenging discrimination when we see it are the first steps. WHAT IS GENDER DISCRIMINATION? Gender discrimination describes the situation in which people are treated differently simply because they are male or female, rather than on the basis of their individual skills or capabilities. \",\n",
    "# related topic 1.1 ('Gender Discrimination') ** whole text **\n",
    "\"CHALLENGING GENDER DISCRIMINATION: A HOW-TO GUIDE We are all influenced by gender. Gender norms (or rules) tell us what is appropriate for girls and for boys, women and men to do in our society. Because of gender stereotypes, girls and women are often less valued and have lower social status. Sophie (front) is a gender equality and sexual health campaigner from Uganda. She helped create the Girls Get Equal campaign. Sophie (front) is a 24-year-old sexual health and rights advocate from Uganda. She helped create the Girls Get Equal campaign.Girls and women suffer most of the negative impact of rigid gender norms and roles - they are more likely to experience restrictions of their freedom and mobility, they experience epidemic levels of violence and harassment across the globe and have fewer opportunities to choose how to live their lives. But boys and men suffer too. Ideas about what it means to be a man force boys and men to behave in very limited ways which can harm them. Negative masculinities encouraged in boys serve to perpetuate the cycle of discrimination and inequality.Denying people the freedom to choose their path in life because of their gender prevents them from fulfilling their full potential. There is lots we can do to help build a more gender-equal world. Understanding the deep roots of gender inequality and challenging discrimination when we see it are the first steps.WHAT IS GENDER DISCRIMINATION? Gender discrimination describes the situation in which people are treated differently simply because they are male or female, rather than on the basis of their individual skills or capabilities. The following is a list of discriminatory acts you may come across among your peers, at home, at school or in the workplace. Sexual harassment, catcalling Harassment and catcalling on the street are prime examples of how women’s right to walk freely around their environment is restricted. The normalisation of harassment and inaction of bystanders and authorities perpetuate this form of discrimination and limit women’s freedom. The Girls Get Equal campaign is taking off in India. Girls are advocating for gender equality from Canada to India. We're supporting them. Gender stereotypes at school and work Stereotypes are how societies expect people to act based on their gender. For example, girls should stay at home and help with housework and childcare, should dress modestly and not stay out late at night. People are often judged by how well they adhere to the gender stereotypes. These stereotypes can often bleed out into school and work, where girls are less likely to be encouraged into science and technology subjects or leadership roles, due to the perceived ‘male nature’ of these pursuits. Likewise, seemingly positive stereotypes and gender roles such as men being the ‘provider’ or ‘protector’ of the family, put an unnecessary burden on men and boys that could more positively be shared in an equal partnership. These attitudes limit girls’ power by rendering them less able to help contribute to making the world around them a better place. Objectification and poor representation Objectification is when a person is treated as a commodity or an object without regard to their personality or dignity. It commonly happens in the media where women are photoshopped and airbrushed leading to much more emphasis and value being put on their external appearance above other capacities. This affects girls’ body image, their self-esteem and ultimately the value they put on themselves. However, girls are also often represented poorly in entertainment and the media in ways that reinforce damaging gender stereotypes and traditional roles. Objectication must be called out and girls must be encouraged to tell their own stories - ones that reflect their power, potential and diversity. TAKE THE GIRLS GET EQUAL PLEDGE HOW CAN I CALL OUT GENDER DISCRIMINATION WHEN I SEE IT? 1. Speak out about your own experiences It’s important, if you feel comfortable, to call out your own experiences of discrimination. This could be highlighting sexist remarks made by your friends or peers or reporting harassment on public transport. It’s important to note that there are dangers associated with calling others out on their behaviour. People may not like to have their viewpoints challenged; they may react in a negative or aggressive way, so if your instincts tells you that a situation is too risky, your own safety is the priority. Often the best course of action when discrimination is experienced is to alert an authority figure - a member of staff on public transport, or where relevant your teacher or your boss. The more they are made aware these issues are happening, the more they’ll be encouraged to step in and be part of the solution. 2. Call out discrimination in the media and advertising Write to advertisers, marketers and media outlets if you come across stories that portray women and girls in a reductive or unfair way. Are there gender stereotypes in your textbooks at school? Does an advert in your city objectify women? Does a film you’ve watched have fewer speaking roles for women? Find out who is responsible and write to them to let them know your thoughts. Also - vote with your feet. Don’t support entertainment that is disrespectful to girls and women and doesn’t represent their true power, potential, talent and diversity.  Boys in Sri Lanka are gender equality allies  Boys in Sri Lanka are supporting Girls Get Equal as allies. 3. Support other campaigners A great way to make a big effect in the pursuit of gender equality is to join wath others. Seek out local campaign groups. Join or set up school or university societies for gender equality and female leadership. There is strength in numbers - more voices tackling a particular issue means they are more likely to be heard. Helping to raise the profile of campaigns by other marginalised groups is a vital part of ending discrimination. For example, girls from a minority or indigenous community may experience racism as well as sexism, and members of the LGBTIQ+ community may also be experiencing homophobia. Be their allies and lend your voice to their causes. 4. It’s OK to not challenge discrimination every time you see it As mentioned above, sometimes calling out discrimination can carry risks. It’s not your job alone to fix the world. We are all part of the same movement. Just changing how we relate with others, and demanding that others do the same, will not end gender inequality. Lasting change will only happen if the institutions that affect our lives also change. Don’t feel defeated by these big obstacles - each small achievement is an extra step towards our shared goal. Caring for ourselves means we can continue to advocate for gender equality so always make sure you are maintaining your own wellbeing.\",\n",
    "# related topic 2  ('Gender Discrimination')\n",
    "\"Gender discrimination plays out in two sequences. The first one is the immediate disappearance of girls at birth (or during early childhood) while the second one refers to future demographic disturbances among adults. The routine elimination of girls before their birth is no doubt the most extreme symptom of women's contemporary undervaluation that goes well beyond all other forms of discrimination. Since Amartya Sen's pioneer paper on missing women (Sen, 1990), we can measure the extent of the resulting gap across populations. Within families, the imbalance is mostly invisible since parents who abort female fetuses often have had prior girls. But when compared across larger communities, figures point inescapably to a surplus of boys. It is in fact possible to get a better idea of the actual rift between male and female by using demographic estimates on the age and sex distribution for entire populations. ‘Missing women’ are women that ought to be found in population censuses if the sex distribution was not skewed toward men. By applying sex ratios by age computed for nondiscriminating countries, from Latin America to Europe, and correcting for age and mortality variations, it is possible to assess the number of women that are apparently missing from demographic records in Asia and Eastern Europe.\",\n",
    "# related topic 3  ('Gender Discrimination')\n",
    "\"Sexual harassment can be based on an individual’s perception of the events in question. Conduct (verbal and/or physical) that is based on sex or gender and that is not welcome can constitute sexual harassment. Grievance procedures consistent with the principles of due process have been developed and implemented for faculty and staff, including Administrative and Professional employees, as well as classified staff. Grievance procedures are available for students in the Office of the Vice President for Student Affairs. Grievance procedures for faculty and staff are included in the Faculty Handbook and the Staff Handbook. \",\n",
    "# unrelated topic 1 (Economic Growth)\n",
    "\"Economic growth is an increase in the production of goods and services over a specific period. To be most accurate, the measurement must remove the effects of inflation. Economic growth creates more profit for businesses. As a result, stock prices rise. That gives companies capital to invest and hire more employees. As more jobs are created, incomes rise. Consumers have more money to buy additional products and services. Purchases drive higher economic growth. For this reason, all countries want positive economic growth. This makes economic growth the most-watched economic indicator.\",\n",
    "# unrelated topic 2 (Stress Management)\n",
    "\"What happens when we continue “burning the candle at both ends” until we reach physical and emotional exhaustion? Just like the candle itself, we risk burning ourselves out. There is a parable of a frog sitting in a pot on the stove. If dropped into a pot of boiling water, a frog would likely notice and try to escape. But when placed in a pot that is slowly approaching a boil, the frog doesn’t notice until the water has already reached an unbearable heat—at which point it is too hot for the frog to survive. Have you ever experienced a slow acceptance of the pressures around you, until everything is “just too much” and you can barely cope? If so, you’re not alone. About 8.3 million American adults were reported to have experienced serious psychological distress in 2017 (“More Americans suffering from stress, anxiety, and depression, study finds,” 2018). So what if we could notice the boiling signs earlier and even “turn down” the heat? If stress “has become one of the most serious health issues of the 20th century and a worldwide epidemic,” then it is time to start growing the tools of how we handle stress (“Workplace Stress,” 2018).\",\n",
    "# unrelated topic 3\n",
    "\"The number of foreign workers in Japan has been rising steadily in recent years. Now, in the midst of the coronavirus outbreak and the most rapid economic downturn since the 2008 financial crisis, many are struggling and one Tokyo-based NPO has been busy fielding calls for help.Counselors at non-profit organization POSSE provide free labor advice in Japanese and English. One of those counselors, Iwahashi Makoto, says they usually get a handful of inquiries each month. But last month the number shot up to 100. Iwahashi Makoto, a counselor at non-profit organization POSSE.Iwahashi says many inquiries came from instructors at foreign language schools in early March. Those schools canceled their classes after Japan’s government called for the closure of elementary, junior high and high schools from March 2. Many instructors were told to stay at home on standby, and they saw their income nosedive. Even if classes took place, instructors complained about a lack of protective measures at their schools, including a failure to press students to wear masks. Later in the month, people in the tourism industry, including receptionists and cleaners at hotels, as well as part-time workers at restaurants and pubs, turned to POSSE for advice. Many of those workers came to Japan from other parts of Asia. Some told counselors their shifts have been cut and their income had dropped sharply. Others said they were facing pressure to quit their jobs as employers cited shrinking sales. For some, the income drop means they can no longer afford to live in Japan.\"\n",
    "]), columns=['text'])"
   ]
  },
  {
   "cell_type": "code",
   "execution_count": 260,
   "metadata": {},
   "outputs": [],
   "source": [
    "self_sentence_df['text_clean'] = self_sentence_df['text'].map(lambda x: text_cleansing(x))\n",
    "self_sentence_df['text_clean_non_include'] = self_sentence_df['text'].map(lambda x: text_cleansing(x, True))"
   ]
  },
  {
   "cell_type": "code",
   "execution_count": 261,
   "metadata": {},
   "outputs": [
    {
     "data": {
      "text/html": [
       "<div>\n",
       "<style scoped>\n",
       "    .dataframe tbody tr th:only-of-type {\n",
       "        vertical-align: middle;\n",
       "    }\n",
       "\n",
       "    .dataframe tbody tr th {\n",
       "        vertical-align: top;\n",
       "    }\n",
       "\n",
       "    .dataframe thead th {\n",
       "        text-align: right;\n",
       "    }\n",
       "</style>\n",
       "<table border=\"1\" class=\"dataframe\">\n",
       "  <thead>\n",
       "    <tr style=\"text-align: right;\">\n",
       "      <th></th>\n",
       "      <th>text</th>\n",
       "      <th>text_clean</th>\n",
       "      <th>text_clean_non_include</th>\n",
       "    </tr>\n",
       "  </thead>\n",
       "  <tbody>\n",
       "    <tr>\n",
       "      <th>0</th>\n",
       "      <td>Gender Discrimination</td>\n",
       "      <td>gender discrimination</td>\n",
       "      <td>gender discrimination</td>\n",
       "    </tr>\n",
       "    <tr>\n",
       "      <th>1</th>\n",
       "      <td>Girls and women suffer most of the negative impact of rigid gender norms and roles - they are more likely to experience restrictions of their freedom and mobility, they experience epidemic levels of violence and harassment across the globe and have fewer opportunities to choose how to live their lives. But boys and men suffer too. Ideas about what it means to be a man force boys and men to behave in very limited ways which can harm them. Negative masculinities encouraged in boys serve to per...</td>\n",
       "      <td>girl woman suffer negative impact rigid gender norm role  likely experience restriction freedom mobility experience epidemic level violence harassment across globe fewer opportunity choose live lives boy men suffer too idea mean man force boy men behave limit way harm them negative masculinity encourage boy serve perpetuate cycle discrimination inequality deny people freedom choose path life gender prevent fulfil full potential lot help build genderequal world understand deep root gender ine...</td>\n",
       "      <td>girl woman suffer negative impact rigid gender norm role  likely experience restriction freedom mobility experience epidemic level violence harassment across globe fewer opportunity choose live lives boy men suffer too idea mean man force boy men behave limit way harm them negative masculinity encourage boy serve perpetuate cycle discrimination inequality deny people freedom choose path life gender prevent fulfil full potential lot help build genderequal world understand deep root gender ine...</td>\n",
       "    </tr>\n",
       "    <tr>\n",
       "      <th>2</th>\n",
       "      <td>CHALLENGING GENDER DISCRIMINATION: A HOW-TO GUIDE We are all influenced by gender. Gender norms (or rules) tell us what is appropriate for girls and for boys, women and men to do in our society. Because of gender stereotypes, girls and women are often less valued and have lower social status. Sophie (front) is a gender equality and sexual health campaigner from Uganda. She helped create the Girls Get Equal campaign. Sophie (front) is a 24-year-old sexual health and rights advocate from Ugand...</td>\n",
       "      <td>challenge gender discrimination howto guide influence gender gender norm or rules tell u appropriate girl boys woman men society gender stereotypes girl woman often le value lower social status sophie front gender equality sexual health campaigner uganda help create girl get equal campaign sophie front 24yearold sexual health right advocate uganda help create girl get equal campaigngirls woman suffer negative impact rigid gender norm role  likely experience restriction freedom mobility exper...</td>\n",
       "      <td>challenge gender discrimination howto guide influence gender gender norm or rules tell u appropriate girl boys woman men society gender stereotypes girl woman often le value lower social status sophie front gender equality sexual health campaigner uganda help create girl get equal campaign sophie front 24yearold sexual health right advocate uganda help create girl get equal campaigngirls woman suffer negative impact rigid gender norm role  likely experience restriction freedom mobility exper...</td>\n",
       "    </tr>\n",
       "    <tr>\n",
       "      <th>3</th>\n",
       "      <td>Gender discrimination plays out in two sequences. The first one is the immediate disappearance of girls at birth (or during early childhood) while the second one refers to future demographic disturbances among adults. The routine elimination of girls before their birth is no doubt the most extreme symptom of women's contemporary undervaluation that goes well beyond all other forms of discrimination. Since Amartya Sen's pioneer paper on missing women (Sen, 1990), we can measure the extent of ...</td>\n",
       "      <td>gender discrimination play two sequences first one immediate disappearance girl birth or early childhood second one refer future demographic disturbance among adults routine elimination girl birth doubt extreme symptom womens contemporary undervaluation go well beyond form discrimination since amartya sens pioneer paper miss woman sen 1990 measure extent result gap across populations within families imbalance mostly invisible since parent abort female fetus often prior girls compare across l...</td>\n",
       "      <td>gender discrimination play two sequences first one immediate disappearance girl birth or early childhood second one refer future demographic disturbance among adults routine elimination girl birth doubt extreme symptom womens contemporary undervaluation go well beyond form discrimination since amartya sens pioneer paper miss woman sen 1990 measure extent result gap across populations within families imbalance mostly invisible since parent abort female fetus often prior girls compare across l...</td>\n",
       "    </tr>\n",
       "    <tr>\n",
       "      <th>4</th>\n",
       "      <td>Sexual harassment can be based on an individual’s perception of the events in question. Conduct (verbal and/or physical) that is based on sex or gender and that is not welcome can constitute sexual harassment. Grievance procedures consistent with the principles of due process have been developed and implemented for faculty and staff, including Administrative and Professional employees, as well as classified staff. Grievance procedures are available for students in the Office of the Vice Pres...</td>\n",
       "      <td>sexual harassment base individual’s perception event question conduct verbal andor physical base sex gender welcome constitute sexual harassment grievance procedure consistent principle due process develop implement faculty staff include administrative professional employees well classify staff grievance procedure available student office vice president student affairs grievance procedure faculty staff include faculty handbook staff handbook</td>\n",
       "      <td>sexual harassment base individual’s perception event question conduct verbal andor physical base sex gender not welcome constitute sexual harassment grievance procedure consistent principle due process develop implement faculty staff include administrative professional employees well classify staff grievance procedure available student office vice president student affairs grievance procedure faculty staff include faculty handbook staff handbook</td>\n",
       "    </tr>\n",
       "    <tr>\n",
       "      <th>5</th>\n",
       "      <td>Economic growth is an increase in the production of goods and services over a specific period. To be most accurate, the measurement must remove the effects of inflation. Economic growth creates more profit for businesses. As a result, stock prices rise. That gives companies capital to invest and hire more employees. As more jobs are created, incomes rise. Consumers have more money to buy additional products and services. Purchases drive higher economic growth. For this reason, all countries ...</td>\n",
       "      <td>economic growth increase production good service specific period accurate measurement must remove effect inflation economic growth create profit businesses result stock price rise give company capital invest hire employees job created income rise consumer money buy additional product services purchase drive higher economic growth reason country want positive economic growth make economic growth mostwatched economic indicator</td>\n",
       "      <td>economic growth increase production good service specific period accurate measurement must remove effect inflation economic growth create profit businesses result stock price rise give company capital invest hire employees job created income rise consumer money buy additional product services purchase drive higher economic growth reason country want positive economic growth make economic growth mostwatched economic indicator</td>\n",
       "    </tr>\n",
       "    <tr>\n",
       "      <th>6</th>\n",
       "      <td>What happens when we continue “burning the candle at both ends” until we reach physical and emotional exhaustion? Just like the candle itself, we risk burning ourselves out. There is a parable of a frog sitting in a pot on the stove. If dropped into a pot of boiling water, a frog would likely notice and try to escape. But when placed in a pot that is slowly approaching a boil, the frog doesn’t notice until the water has already reached an unbearable heat—at which point it is too hot for the ...</td>\n",
       "      <td>happen continue “burning candle ends” reach physical emotional exhaustion like candle itself risk burn out parable frog sit pot stove drop pot boil water frog would likely notice try escape place pot slowly approach boil frog doesn’t notice water already reach unbearable heat—at point hot frog survive ever experience slow acceptance pressure around you everything “just much” barely cope so you’re alone 83 million american adult report experience serious psychological distress 2017 “more amer...</td>\n",
       "      <td>happen continue “burning candle ends” reach physical emotional exhaustion like candle itself risk burn out parable frog sit pot stove drop pot boil water frog would likely notice try escape place pot slowly approach boil frog doesn’t notice water already reach unbearable heat—at point hot frog survive ever experience slow acceptance pressure around you everything “just much” barely cope so you’re not alone 83 million american adult report experience serious psychological distress 2017 “more ...</td>\n",
       "    </tr>\n",
       "    <tr>\n",
       "      <th>7</th>\n",
       "      <td>The number of foreign workers in Japan has been rising steadily in recent years. Now, in the midst of the coronavirus outbreak and the most rapid economic downturn since the 2008 financial crisis, many are struggling and one Tokyo-based NPO has been busy fielding calls for help.Counselors at non-profit organization POSSE provide free labor advice in Japanese and English. One of those counselors, Iwahashi Makoto, says they usually get a handful of inquiries each month. But last month the numb...</td>\n",
       "      <td>number foreign worker japan rise steadily recent years now midst coronavirus outbreak rapid economic downturn since 2008 financial crisis many struggle one tokyobased npo busy field call helpcounselors nonprofit organization posse provide free labor advice japanese english one counselors iwahashi makoto say usually get handful inquiry month last month number shoot 100 iwahashi makoto counselor nonprofit organization posseiwahashi say many inquiry come instructor foreign language school early...</td>\n",
       "      <td>number foreign worker japan rise steadily recent years now midst coronavirus outbreak rapid economic downturn since 2008 financial crisis many struggle one tokyobased npo busy field call helpcounselors nonprofit organization posse provide free labor advice japanese english one counselors iwahashi makoto say usually get handful inquiry month last month number shoot 100 iwahashi makoto counselor nonprofit organization posseiwahashi say many inquiry come instructor foreign language school early...</td>\n",
       "    </tr>\n",
       "  </tbody>\n",
       "</table>\n",
       "</div>"
      ],
      "text/plain": [
       "                                                                                                                                                                                                                                                                                                                                                                                                                                                                                                                  text                                                                                                                                                                                                                                                                                                                                                                                                                                                                                                           text_clean                                                                                                                                                                                                                                                                                                                                                                                                                                                                                               text_clean_non_include\n",
       "0                                                                                                                                                                                                                                                                                                                                                                                                                                                                                                Gender Discrimination                                                                                                                                                                                                                                                                                                                                                                                                                                                                                                gender discrimination                                                                                                                                                                                                                                                                                                                                                                                                                                                                                                gender discrimination\n",
       "1  Girls and women suffer most of the negative impact of rigid gender norms and roles - they are more likely to experience restrictions of their freedom and mobility, they experience epidemic levels of violence and harassment across the globe and have fewer opportunities to choose how to live their lives. But boys and men suffer too. Ideas about what it means to be a man force boys and men to behave in very limited ways which can harm them. Negative masculinities encouraged in boys serve to per...  girl woman suffer negative impact rigid gender norm role  likely experience restriction freedom mobility experience epidemic level violence harassment across globe fewer opportunity choose live lives boy men suffer too idea mean man force boy men behave limit way harm them negative masculinity encourage boy serve perpetuate cycle discrimination inequality deny people freedom choose path life gender prevent fulfil full potential lot help build genderequal world understand deep root gender ine...  girl woman suffer negative impact rigid gender norm role  likely experience restriction freedom mobility experience epidemic level violence harassment across globe fewer opportunity choose live lives boy men suffer too idea mean man force boy men behave limit way harm them negative masculinity encourage boy serve perpetuate cycle discrimination inequality deny people freedom choose path life gender prevent fulfil full potential lot help build genderequal world understand deep root gender ine...\n",
       "2  CHALLENGING GENDER DISCRIMINATION: A HOW-TO GUIDE We are all influenced by gender. Gender norms (or rules) tell us what is appropriate for girls and for boys, women and men to do in our society. Because of gender stereotypes, girls and women are often less valued and have lower social status. Sophie (front) is a gender equality and sexual health campaigner from Uganda. She helped create the Girls Get Equal campaign. Sophie (front) is a 24-year-old sexual health and rights advocate from Ugand...  challenge gender discrimination howto guide influence gender gender norm or rules tell u appropriate girl boys woman men society gender stereotypes girl woman often le value lower social status sophie front gender equality sexual health campaigner uganda help create girl get equal campaign sophie front 24yearold sexual health right advocate uganda help create girl get equal campaigngirls woman suffer negative impact rigid gender norm role  likely experience restriction freedom mobility exper...  challenge gender discrimination howto guide influence gender gender norm or rules tell u appropriate girl boys woman men society gender stereotypes girl woman often le value lower social status sophie front gender equality sexual health campaigner uganda help create girl get equal campaign sophie front 24yearold sexual health right advocate uganda help create girl get equal campaigngirls woman suffer negative impact rigid gender norm role  likely experience restriction freedom mobility exper...\n",
       "3  Gender discrimination plays out in two sequences. The first one is the immediate disappearance of girls at birth (or during early childhood) while the second one refers to future demographic disturbances among adults. The routine elimination of girls before their birth is no doubt the most extreme symptom of women's contemporary undervaluation that goes well beyond all other forms of discrimination. Since Amartya Sen's pioneer paper on missing women (Sen, 1990), we can measure the extent of ...  gender discrimination play two sequences first one immediate disappearance girl birth or early childhood second one refer future demographic disturbance among adults routine elimination girl birth doubt extreme symptom womens contemporary undervaluation go well beyond form discrimination since amartya sens pioneer paper miss woman sen 1990 measure extent result gap across populations within families imbalance mostly invisible since parent abort female fetus often prior girls compare across l...  gender discrimination play two sequences first one immediate disappearance girl birth or early childhood second one refer future demographic disturbance among adults routine elimination girl birth doubt extreme symptom womens contemporary undervaluation go well beyond form discrimination since amartya sens pioneer paper miss woman sen 1990 measure extent result gap across populations within families imbalance mostly invisible since parent abort female fetus often prior girls compare across l...\n",
       "4  Sexual harassment can be based on an individual’s perception of the events in question. Conduct (verbal and/or physical) that is based on sex or gender and that is not welcome can constitute sexual harassment. Grievance procedures consistent with the principles of due process have been developed and implemented for faculty and staff, including Administrative and Professional employees, as well as classified staff. Grievance procedures are available for students in the Office of the Vice Pres...                                                        sexual harassment base individual’s perception event question conduct verbal andor physical base sex gender welcome constitute sexual harassment grievance procedure consistent principle due process develop implement faculty staff include administrative professional employees well classify staff grievance procedure available student office vice president student affairs grievance procedure faculty staff include faculty handbook staff handbook                                                    sexual harassment base individual’s perception event question conduct verbal andor physical base sex gender not welcome constitute sexual harassment grievance procedure consistent principle due process develop implement faculty staff include administrative professional employees well classify staff grievance procedure available student office vice president student affairs grievance procedure faculty staff include faculty handbook staff handbook\n",
       "5  Economic growth is an increase in the production of goods and services over a specific period. To be most accurate, the measurement must remove the effects of inflation. Economic growth creates more profit for businesses. As a result, stock prices rise. That gives companies capital to invest and hire more employees. As more jobs are created, incomes rise. Consumers have more money to buy additional products and services. Purchases drive higher economic growth. For this reason, all countries ...                                                                         economic growth increase production good service specific period accurate measurement must remove effect inflation economic growth create profit businesses result stock price rise give company capital invest hire employees job created income rise consumer money buy additional product services purchase drive higher economic growth reason country want positive economic growth make economic growth mostwatched economic indicator                                                                         economic growth increase production good service specific period accurate measurement must remove effect inflation economic growth create profit businesses result stock price rise give company capital invest hire employees job created income rise consumer money buy additional product services purchase drive higher economic growth reason country want positive economic growth make economic growth mostwatched economic indicator\n",
       "6  What happens when we continue “burning the candle at both ends” until we reach physical and emotional exhaustion? Just like the candle itself, we risk burning ourselves out. There is a parable of a frog sitting in a pot on the stove. If dropped into a pot of boiling water, a frog would likely notice and try to escape. But when placed in a pot that is slowly approaching a boil, the frog doesn’t notice until the water has already reached an unbearable heat—at which point it is too hot for the ...  happen continue “burning candle ends” reach physical emotional exhaustion like candle itself risk burn out parable frog sit pot stove drop pot boil water frog would likely notice try escape place pot slowly approach boil frog doesn’t notice water already reach unbearable heat—at point hot frog survive ever experience slow acceptance pressure around you everything “just much” barely cope so you’re alone 83 million american adult report experience serious psychological distress 2017 “more amer...  happen continue “burning candle ends” reach physical emotional exhaustion like candle itself risk burn out parable frog sit pot stove drop pot boil water frog would likely notice try escape place pot slowly approach boil frog doesn’t notice water already reach unbearable heat—at point hot frog survive ever experience slow acceptance pressure around you everything “just much” barely cope so you’re not alone 83 million american adult report experience serious psychological distress 2017 “more ...\n",
       "7  The number of foreign workers in Japan has been rising steadily in recent years. Now, in the midst of the coronavirus outbreak and the most rapid economic downturn since the 2008 financial crisis, many are struggling and one Tokyo-based NPO has been busy fielding calls for help.Counselors at non-profit organization POSSE provide free labor advice in Japanese and English. One of those counselors, Iwahashi Makoto, says they usually get a handful of inquiries each month. But last month the numb...  number foreign worker japan rise steadily recent years now midst coronavirus outbreak rapid economic downturn since 2008 financial crisis many struggle one tokyobased npo busy field call helpcounselors nonprofit organization posse provide free labor advice japanese english one counselors iwahashi makoto say usually get handful inquiry month last month number shoot 100 iwahashi makoto counselor nonprofit organization posseiwahashi say many inquiry come instructor foreign language school early...  number foreign worker japan rise steadily recent years now midst coronavirus outbreak rapid economic downturn since 2008 financial crisis many struggle one tokyobased npo busy field call helpcounselors nonprofit organization posse provide free labor advice japanese english one counselors iwahashi makoto say usually get handful inquiry month last month number shoot 100 iwahashi makoto counselor nonprofit organization posseiwahashi say many inquiry come instructor foreign language school early..."
      ]
     },
     "execution_count": 261,
     "metadata": {},
     "output_type": "execute_result"
    }
   ],
   "source": [
    "self_sentence_df"
   ]
  },
  {
   "cell_type": "code",
   "execution_count": 277,
   "metadata": {},
   "outputs": [],
   "source": [
    "# essay vectorization (300 components)\n",
    "essay_v = []\n",
    "essay_v_not =[]\n",
    "\n",
    "for essay in self_sentence_df['text_clean']:\n",
    "    essay_v.append(swem_agg_vector(essay.split(' '), word2vec_base, 'max'))\n",
    "\n",
    "for essay in self_sentence_df['text_clean_non_include']:\n",
    "    essay_v_not.append(swem_agg_vector(essay.split(' '), word2vec_base, 'max'))"
   ]
  },
  {
   "cell_type": "code",
   "execution_count": 278,
   "metadata": {},
   "outputs": [],
   "source": [
    "target_index = 0\n",
    "\n",
    "cosine_distance = {}\n",
    "cosine_distance_not = {}\n",
    "for idx in range(len(essay_v)):\n",
    "    cosine_distance[idx] = cos_similarity(essay_v[idx], essay_v[target_index])\n",
    "    cosine_distance_not[idx] = cos_similarity(essay_v_not[idx], essay_v_not[target_index])"
   ]
  },
  {
   "cell_type": "code",
   "execution_count": 279,
   "metadata": {},
   "outputs": [
    {
     "name": "stdout",
     "output_type": "stream",
     "text": [
      "target_index = 0\n"
     ]
    },
    {
     "data": {
      "text/html": [
       "<div>\n",
       "<style scoped>\n",
       "    .dataframe tbody tr th:only-of-type {\n",
       "        vertical-align: middle;\n",
       "    }\n",
       "\n",
       "    .dataframe tbody tr th {\n",
       "        vertical-align: top;\n",
       "    }\n",
       "\n",
       "    .dataframe thead th {\n",
       "        text-align: right;\n",
       "    }\n",
       "</style>\n",
       "<table border=\"1\" class=\"dataframe\">\n",
       "  <thead>\n",
       "    <tr style=\"text-align: right;\">\n",
       "      <th></th>\n",
       "      <th>text</th>\n",
       "      <th>text_clean</th>\n",
       "      <th>text_clean_non_include</th>\n",
       "      <th>d</th>\n",
       "      <th>d_not</th>\n",
       "    </tr>\n",
       "  </thead>\n",
       "  <tbody>\n",
       "    <tr>\n",
       "      <th>0</th>\n",
       "      <td>Gender Discrimination</td>\n",
       "      <td>gender discrimination</td>\n",
       "      <td>gender discrimination</td>\n",
       "      <td>1.000000</td>\n",
       "      <td>1.000000</td>\n",
       "    </tr>\n",
       "    <tr>\n",
       "      <th>1</th>\n",
       "      <td>Girls and women suffer most of the negative impact of rigid gender norms and roles - they are more likely to experience restrictions of their freedom and mobility, they experience epidemic levels of violence and harassment across the globe and have fewer opportunities to choose how to live their lives. But boys and men suffer too. Ideas about what it means to be a man force boys and men to behave in very limited ways which can harm them. Negative masculinities encouraged in boys serve to per...</td>\n",
       "      <td>girl woman suffer negative impact rigid gender norm role  likely experience restriction freedom mobility experience epidemic level violence harassment across globe fewer opportunity choose live lives boy men suffer too idea mean man force boy men behave limit way harm them negative masculinity encourage boy serve perpetuate cycle discrimination inequality deny people freedom choose path life gender prevent fulfil full potential lot help build genderequal world understand deep root gender ine...</td>\n",
       "      <td>girl woman suffer negative impact rigid gender norm role  likely experience restriction freedom mobility experience epidemic level violence harassment across globe fewer opportunity choose live lives boy men suffer too idea mean man force boy men behave limit way harm them negative masculinity encourage boy serve perpetuate cycle discrimination inequality deny people freedom choose path life gender prevent fulfil full potential lot help build genderequal world understand deep root gender ine...</td>\n",
       "      <td>0.890757</td>\n",
       "      <td>0.890757</td>\n",
       "    </tr>\n",
       "    <tr>\n",
       "      <th>3</th>\n",
       "      <td>Gender discrimination plays out in two sequences. The first one is the immediate disappearance of girls at birth (or during early childhood) while the second one refers to future demographic disturbances among adults. The routine elimination of girls before their birth is no doubt the most extreme symptom of women's contemporary undervaluation that goes well beyond all other forms of discrimination. Since Amartya Sen's pioneer paper on missing women (Sen, 1990), we can measure the extent of ...</td>\n",
       "      <td>gender discrimination play two sequences first one immediate disappearance girl birth or early childhood second one refer future demographic disturbance among adults routine elimination girl birth doubt extreme symptom womens contemporary undervaluation go well beyond form discrimination since amartya sens pioneer paper miss woman sen 1990 measure extent result gap across populations within families imbalance mostly invisible since parent abort female fetus often prior girls compare across l...</td>\n",
       "      <td>gender discrimination play two sequences first one immediate disappearance girl birth or early childhood second one refer future demographic disturbance among adults routine elimination girl birth doubt extreme symptom womens contemporary undervaluation go well beyond form discrimination since amartya sens pioneer paper miss woman sen 1990 measure extent result gap across populations within families imbalance mostly invisible since parent abort female fetus often prior girls compare across l...</td>\n",
       "      <td>0.883032</td>\n",
       "      <td>0.883032</td>\n",
       "    </tr>\n",
       "    <tr>\n",
       "      <th>2</th>\n",
       "      <td>CHALLENGING GENDER DISCRIMINATION: A HOW-TO GUIDE We are all influenced by gender. Gender norms (or rules) tell us what is appropriate for girls and for boys, women and men to do in our society. Because of gender stereotypes, girls and women are often less valued and have lower social status. Sophie (front) is a gender equality and sexual health campaigner from Uganda. She helped create the Girls Get Equal campaign. Sophie (front) is a 24-year-old sexual health and rights advocate from Ugand...</td>\n",
       "      <td>challenge gender discrimination howto guide influence gender gender norm or rules tell u appropriate girl boys woman men society gender stereotypes girl woman often le value lower social status sophie front gender equality sexual health campaigner uganda help create girl get equal campaign sophie front 24yearold sexual health right advocate uganda help create girl get equal campaigngirls woman suffer negative impact rigid gender norm role  likely experience restriction freedom mobility exper...</td>\n",
       "      <td>challenge gender discrimination howto guide influence gender gender norm or rules tell u appropriate girl boys woman men society gender stereotypes girl woman often le value lower social status sophie front gender equality sexual health campaigner uganda help create girl get equal campaign sophie front 24yearold sexual health right advocate uganda help create girl get equal campaigngirls woman suffer negative impact rigid gender norm role  likely experience restriction freedom mobility exper...</td>\n",
       "      <td>0.882406</td>\n",
       "      <td>0.882406</td>\n",
       "    </tr>\n",
       "    <tr>\n",
       "      <th>4</th>\n",
       "      <td>Sexual harassment can be based on an individual’s perception of the events in question. Conduct (verbal and/or physical) that is based on sex or gender and that is not welcome can constitute sexual harassment. Grievance procedures consistent with the principles of due process have been developed and implemented for faculty and staff, including Administrative and Professional employees, as well as classified staff. Grievance procedures are available for students in the Office of the Vice Pres...</td>\n",
       "      <td>sexual harassment base individual’s perception event question conduct verbal andor physical base sex gender welcome constitute sexual harassment grievance procedure consistent principle due process develop implement faculty staff include administrative professional employees well classify staff grievance procedure available student office vice president student affairs grievance procedure faculty staff include faculty handbook staff handbook</td>\n",
       "      <td>sexual harassment base individual’s perception event question conduct verbal andor physical base sex gender not welcome constitute sexual harassment grievance procedure consistent principle due process develop implement faculty staff include administrative professional employees well classify staff grievance procedure available student office vice president student affairs grievance procedure faculty staff include faculty handbook staff handbook</td>\n",
       "      <td>0.876619</td>\n",
       "      <td>0.876619</td>\n",
       "    </tr>\n",
       "    <tr>\n",
       "      <th>5</th>\n",
       "      <td>Economic growth is an increase in the production of goods and services over a specific period. To be most accurate, the measurement must remove the effects of inflation. Economic growth creates more profit for businesses. As a result, stock prices rise. That gives companies capital to invest and hire more employees. As more jobs are created, incomes rise. Consumers have more money to buy additional products and services. Purchases drive higher economic growth. For this reason, all countries ...</td>\n",
       "      <td>economic growth increase production good service specific period accurate measurement must remove effect inflation economic growth create profit businesses result stock price rise give company capital invest hire employees job created income rise consumer money buy additional product services purchase drive higher economic growth reason country want positive economic growth make economic growth mostwatched economic indicator</td>\n",
       "      <td>economic growth increase production good service specific period accurate measurement must remove effect inflation economic growth create profit businesses result stock price rise give company capital invest hire employees job created income rise consumer money buy additional product services purchase drive higher economic growth reason country want positive economic growth make economic growth mostwatched economic indicator</td>\n",
       "      <td>0.860930</td>\n",
       "      <td>0.860930</td>\n",
       "    </tr>\n",
       "    <tr>\n",
       "      <th>6</th>\n",
       "      <td>What happens when we continue “burning the candle at both ends” until we reach physical and emotional exhaustion? Just like the candle itself, we risk burning ourselves out. There is a parable of a frog sitting in a pot on the stove. If dropped into a pot of boiling water, a frog would likely notice and try to escape. But when placed in a pot that is slowly approaching a boil, the frog doesn’t notice until the water has already reached an unbearable heat—at which point it is too hot for the ...</td>\n",
       "      <td>happen continue “burning candle ends” reach physical emotional exhaustion like candle itself risk burn out parable frog sit pot stove drop pot boil water frog would likely notice try escape place pot slowly approach boil frog doesn’t notice water already reach unbearable heat—at point hot frog survive ever experience slow acceptance pressure around you everything “just much” barely cope so you’re alone 83 million american adult report experience serious psychological distress 2017 “more amer...</td>\n",
       "      <td>happen continue “burning candle ends” reach physical emotional exhaustion like candle itself risk burn out parable frog sit pot stove drop pot boil water frog would likely notice try escape place pot slowly approach boil frog doesn’t notice water already reach unbearable heat—at point hot frog survive ever experience slow acceptance pressure around you everything “just much” barely cope so you’re not alone 83 million american adult report experience serious psychological distress 2017 “more ...</td>\n",
       "      <td>0.858038</td>\n",
       "      <td>0.858038</td>\n",
       "    </tr>\n",
       "    <tr>\n",
       "      <th>7</th>\n",
       "      <td>The number of foreign workers in Japan has been rising steadily in recent years. Now, in the midst of the coronavirus outbreak and the most rapid economic downturn since the 2008 financial crisis, many are struggling and one Tokyo-based NPO has been busy fielding calls for help.Counselors at non-profit organization POSSE provide free labor advice in Japanese and English. One of those counselors, Iwahashi Makoto, says they usually get a handful of inquiries each month. But last month the numb...</td>\n",
       "      <td>number foreign worker japan rise steadily recent years now midst coronavirus outbreak rapid economic downturn since 2008 financial crisis many struggle one tokyobased npo busy field call helpcounselors nonprofit organization posse provide free labor advice japanese english one counselors iwahashi makoto say usually get handful inquiry month last month number shoot 100 iwahashi makoto counselor nonprofit organization posseiwahashi say many inquiry come instructor foreign language school early...</td>\n",
       "      <td>number foreign worker japan rise steadily recent years now midst coronavirus outbreak rapid economic downturn since 2008 financial crisis many struggle one tokyobased npo busy field call helpcounselors nonprofit organization posse provide free labor advice japanese english one counselors iwahashi makoto say usually get handful inquiry month last month number shoot 100 iwahashi makoto counselor nonprofit organization posseiwahashi say many inquiry come instructor foreign language school early...</td>\n",
       "      <td>0.853371</td>\n",
       "      <td>0.853371</td>\n",
       "    </tr>\n",
       "  </tbody>\n",
       "</table>\n",
       "</div>"
      ],
      "text/plain": [
       "                                                                                                                                                                                                                                                                                                                                                                                                                                                                                                                  text                                                                                                                                                                                                                                                                                                                                                                                                                                                                                                           text_clean                                                                                                                                                                                                                                                                                                                                                                                                                                                                                               text_clean_non_include         d     d_not\n",
       "0                                                                                                                                                                                                                                                                                                                                                                                                                                                                                                Gender Discrimination                                                                                                                                                                                                                                                                                                                                                                                                                                                                                                gender discrimination                                                                                                                                                                                                                                                                                                                                                                                                                                                                                                gender discrimination  1.000000  1.000000\n",
       "1  Girls and women suffer most of the negative impact of rigid gender norms and roles - they are more likely to experience restrictions of their freedom and mobility, they experience epidemic levels of violence and harassment across the globe and have fewer opportunities to choose how to live their lives. But boys and men suffer too. Ideas about what it means to be a man force boys and men to behave in very limited ways which can harm them. Negative masculinities encouraged in boys serve to per...  girl woman suffer negative impact rigid gender norm role  likely experience restriction freedom mobility experience epidemic level violence harassment across globe fewer opportunity choose live lives boy men suffer too idea mean man force boy men behave limit way harm them negative masculinity encourage boy serve perpetuate cycle discrimination inequality deny people freedom choose path life gender prevent fulfil full potential lot help build genderequal world understand deep root gender ine...  girl woman suffer negative impact rigid gender norm role  likely experience restriction freedom mobility experience epidemic level violence harassment across globe fewer opportunity choose live lives boy men suffer too idea mean man force boy men behave limit way harm them negative masculinity encourage boy serve perpetuate cycle discrimination inequality deny people freedom choose path life gender prevent fulfil full potential lot help build genderequal world understand deep root gender ine...  0.890757  0.890757\n",
       "3  Gender discrimination plays out in two sequences. The first one is the immediate disappearance of girls at birth (or during early childhood) while the second one refers to future demographic disturbances among adults. The routine elimination of girls before their birth is no doubt the most extreme symptom of women's contemporary undervaluation that goes well beyond all other forms of discrimination. Since Amartya Sen's pioneer paper on missing women (Sen, 1990), we can measure the extent of ...  gender discrimination play two sequences first one immediate disappearance girl birth or early childhood second one refer future demographic disturbance among adults routine elimination girl birth doubt extreme symptom womens contemporary undervaluation go well beyond form discrimination since amartya sens pioneer paper miss woman sen 1990 measure extent result gap across populations within families imbalance mostly invisible since parent abort female fetus often prior girls compare across l...  gender discrimination play two sequences first one immediate disappearance girl birth or early childhood second one refer future demographic disturbance among adults routine elimination girl birth doubt extreme symptom womens contemporary undervaluation go well beyond form discrimination since amartya sens pioneer paper miss woman sen 1990 measure extent result gap across populations within families imbalance mostly invisible since parent abort female fetus often prior girls compare across l...  0.883032  0.883032\n",
       "2  CHALLENGING GENDER DISCRIMINATION: A HOW-TO GUIDE We are all influenced by gender. Gender norms (or rules) tell us what is appropriate for girls and for boys, women and men to do in our society. Because of gender stereotypes, girls and women are often less valued and have lower social status. Sophie (front) is a gender equality and sexual health campaigner from Uganda. She helped create the Girls Get Equal campaign. Sophie (front) is a 24-year-old sexual health and rights advocate from Ugand...  challenge gender discrimination howto guide influence gender gender norm or rules tell u appropriate girl boys woman men society gender stereotypes girl woman often le value lower social status sophie front gender equality sexual health campaigner uganda help create girl get equal campaign sophie front 24yearold sexual health right advocate uganda help create girl get equal campaigngirls woman suffer negative impact rigid gender norm role  likely experience restriction freedom mobility exper...  challenge gender discrimination howto guide influence gender gender norm or rules tell u appropriate girl boys woman men society gender stereotypes girl woman often le value lower social status sophie front gender equality sexual health campaigner uganda help create girl get equal campaign sophie front 24yearold sexual health right advocate uganda help create girl get equal campaigngirls woman suffer negative impact rigid gender norm role  likely experience restriction freedom mobility exper...  0.882406  0.882406\n",
       "4  Sexual harassment can be based on an individual’s perception of the events in question. Conduct (verbal and/or physical) that is based on sex or gender and that is not welcome can constitute sexual harassment. Grievance procedures consistent with the principles of due process have been developed and implemented for faculty and staff, including Administrative and Professional employees, as well as classified staff. Grievance procedures are available for students in the Office of the Vice Pres...                                                        sexual harassment base individual’s perception event question conduct verbal andor physical base sex gender welcome constitute sexual harassment grievance procedure consistent principle due process develop implement faculty staff include administrative professional employees well classify staff grievance procedure available student office vice president student affairs grievance procedure faculty staff include faculty handbook staff handbook                                                    sexual harassment base individual’s perception event question conduct verbal andor physical base sex gender not welcome constitute sexual harassment grievance procedure consistent principle due process develop implement faculty staff include administrative professional employees well classify staff grievance procedure available student office vice president student affairs grievance procedure faculty staff include faculty handbook staff handbook  0.876619  0.876619\n",
       "5  Economic growth is an increase in the production of goods and services over a specific period. To be most accurate, the measurement must remove the effects of inflation. Economic growth creates more profit for businesses. As a result, stock prices rise. That gives companies capital to invest and hire more employees. As more jobs are created, incomes rise. Consumers have more money to buy additional products and services. Purchases drive higher economic growth. For this reason, all countries ...                                                                         economic growth increase production good service specific period accurate measurement must remove effect inflation economic growth create profit businesses result stock price rise give company capital invest hire employees job created income rise consumer money buy additional product services purchase drive higher economic growth reason country want positive economic growth make economic growth mostwatched economic indicator                                                                         economic growth increase production good service specific period accurate measurement must remove effect inflation economic growth create profit businesses result stock price rise give company capital invest hire employees job created income rise consumer money buy additional product services purchase drive higher economic growth reason country want positive economic growth make economic growth mostwatched economic indicator  0.860930  0.860930\n",
       "6  What happens when we continue “burning the candle at both ends” until we reach physical and emotional exhaustion? Just like the candle itself, we risk burning ourselves out. There is a parable of a frog sitting in a pot on the stove. If dropped into a pot of boiling water, a frog would likely notice and try to escape. But when placed in a pot that is slowly approaching a boil, the frog doesn’t notice until the water has already reached an unbearable heat—at which point it is too hot for the ...  happen continue “burning candle ends” reach physical emotional exhaustion like candle itself risk burn out parable frog sit pot stove drop pot boil water frog would likely notice try escape place pot slowly approach boil frog doesn’t notice water already reach unbearable heat—at point hot frog survive ever experience slow acceptance pressure around you everything “just much” barely cope so you’re alone 83 million american adult report experience serious psychological distress 2017 “more amer...  happen continue “burning candle ends” reach physical emotional exhaustion like candle itself risk burn out parable frog sit pot stove drop pot boil water frog would likely notice try escape place pot slowly approach boil frog doesn’t notice water already reach unbearable heat—at point hot frog survive ever experience slow acceptance pressure around you everything “just much” barely cope so you’re not alone 83 million american adult report experience serious psychological distress 2017 “more ...  0.858038  0.858038\n",
       "7  The number of foreign workers in Japan has been rising steadily in recent years. Now, in the midst of the coronavirus outbreak and the most rapid economic downturn since the 2008 financial crisis, many are struggling and one Tokyo-based NPO has been busy fielding calls for help.Counselors at non-profit organization POSSE provide free labor advice in Japanese and English. One of those counselors, Iwahashi Makoto, says they usually get a handful of inquiries each month. But last month the numb...  number foreign worker japan rise steadily recent years now midst coronavirus outbreak rapid economic downturn since 2008 financial crisis many struggle one tokyobased npo busy field call helpcounselors nonprofit organization posse provide free labor advice japanese english one counselors iwahashi makoto say usually get handful inquiry month last month number shoot 100 iwahashi makoto counselor nonprofit organization posseiwahashi say many inquiry come instructor foreign language school early...  number foreign worker japan rise steadily recent years now midst coronavirus outbreak rapid economic downturn since 2008 financial crisis many struggle one tokyobased npo busy field call helpcounselors nonprofit organization posse provide free labor advice japanese english one counselors iwahashi makoto say usually get handful inquiry month last month number shoot 100 iwahashi makoto counselor nonprofit organization posseiwahashi say many inquiry come instructor foreign language school early...  0.853371  0.853371"
      ]
     },
     "execution_count": 279,
     "metadata": {},
     "output_type": "execute_result"
    }
   ],
   "source": [
    "print('target_index = {}'.format(target_index))\n",
    "final_df = pd.concat([self_sentence_df, pd.DataFrame.from_dict(cosine_distance, orient='index', columns=['d']),\n",
    "pd.DataFrame.from_dict(cosine_distance_not, orient='index', columns=['d_not'])], axis=1)\n",
    "final_df.sort_values(ascending=False, by='d')"
   ]
  },
  {
   "cell_type": "code",
   "execution_count": 214,
   "metadata": {},
   "outputs": [
    {
     "data": {
      "text/html": [
       "<div>\n",
       "<style scoped>\n",
       "    .dataframe tbody tr th:only-of-type {\n",
       "        vertical-align: middle;\n",
       "    }\n",
       "\n",
       "    .dataframe tbody tr th {\n",
       "        vertical-align: top;\n",
       "    }\n",
       "\n",
       "    .dataframe thead th {\n",
       "        text-align: right;\n",
       "    }\n",
       "</style>\n",
       "<table border=\"1\" class=\"dataframe\">\n",
       "  <thead>\n",
       "    <tr style=\"text-align: right;\">\n",
       "      <th></th>\n",
       "      <th>text</th>\n",
       "      <th>text_clean</th>\n",
       "      <th>text_clean_non_include</th>\n",
       "      <th>d</th>\n",
       "      <th>d_not</th>\n",
       "    </tr>\n",
       "  </thead>\n",
       "  <tbody>\n",
       "    <tr>\n",
       "      <th>6</th>\n",
       "      <td>assist</td>\n",
       "      <td>assist</td>\n",
       "      <td>assist</td>\n",
       "      <td>1.000000</td>\n",
       "      <td>1.000000</td>\n",
       "    </tr>\n",
       "    <tr>\n",
       "      <th>7</th>\n",
       "      <td>help</td>\n",
       "      <td>help</td>\n",
       "      <td>help</td>\n",
       "      <td>0.564128</td>\n",
       "      <td>0.564128</td>\n",
       "    </tr>\n",
       "    <tr>\n",
       "      <th>4</th>\n",
       "      <td>She said she is pleased to assist!</td>\n",
       "      <td>say please assist</td>\n",
       "      <td>say please assist</td>\n",
       "      <td>0.351765</td>\n",
       "      <td>0.351765</td>\n",
       "    </tr>\n",
       "    <tr>\n",
       "      <th>9</th>\n",
       "      <td>aid</td>\n",
       "      <td>aid</td>\n",
       "      <td>aid</td>\n",
       "      <td>0.313503</td>\n",
       "      <td>0.313503</td>\n",
       "    </tr>\n",
       "    <tr>\n",
       "      <th>8</th>\n",
       "      <td>support</td>\n",
       "      <td>support</td>\n",
       "      <td>support</td>\n",
       "      <td>0.305955</td>\n",
       "      <td>0.305955</td>\n",
       "    </tr>\n",
       "    <tr>\n",
       "      <th>5</th>\n",
       "      <td>She doesn't want to help anyone.</td>\n",
       "      <td>want help anyone</td>\n",
       "      <td>doesnt want help anyone</td>\n",
       "      <td>0.192835</td>\n",
       "      <td>0.192835</td>\n",
       "    </tr>\n",
       "    <tr>\n",
       "      <th>3</th>\n",
       "      <td>Lisa is willing to help you</td>\n",
       "      <td>lisa will help</td>\n",
       "      <td>lisa will help</td>\n",
       "      <td>0.133535</td>\n",
       "      <td>0.133535</td>\n",
       "    </tr>\n",
       "    <tr>\n",
       "      <th>2</th>\n",
       "      <td>Lisa is glad to help you</td>\n",
       "      <td>lisa glad help</td>\n",
       "      <td>lisa glad help</td>\n",
       "      <td>0.096889</td>\n",
       "      <td>0.096889</td>\n",
       "    </tr>\n",
       "    <tr>\n",
       "      <th>11</th>\n",
       "      <td>This view is amazing.</td>\n",
       "      <td>view amazing</td>\n",
       "      <td>view amazing</td>\n",
       "      <td>0.092133</td>\n",
       "      <td>0.092133</td>\n",
       "    </tr>\n",
       "    <tr>\n",
       "      <th>0</th>\n",
       "      <td>Mac pc is very useful.</td>\n",
       "      <td>mac pc useful</td>\n",
       "      <td>mac pc useful</td>\n",
       "      <td>0.091802</td>\n",
       "      <td>0.091802</td>\n",
       "    </tr>\n",
       "    <tr>\n",
       "      <th>19</th>\n",
       "      <td>He is my enemy.</td>\n",
       "      <td>enemy</td>\n",
       "      <td>enemy</td>\n",
       "      <td>0.087477</td>\n",
       "      <td>0.087477</td>\n",
       "    </tr>\n",
       "    <tr>\n",
       "      <th>14</th>\n",
       "      <td>He is my best friend.</td>\n",
       "      <td>best friend</td>\n",
       "      <td>best friend</td>\n",
       "      <td>0.085624</td>\n",
       "      <td>0.085624</td>\n",
       "    </tr>\n",
       "    <tr>\n",
       "      <th>18</th>\n",
       "      <td>I am not looking forward to the concert.</td>\n",
       "      <td>look forward concert</td>\n",
       "      <td>not look forward concert</td>\n",
       "      <td>0.091298</td>\n",
       "      <td>0.075390</td>\n",
       "    </tr>\n",
       "    <tr>\n",
       "      <th>15</th>\n",
       "      <td>I do not like this car.</td>\n",
       "      <td>like car</td>\n",
       "      <td>not like car</td>\n",
       "      <td>0.045827</td>\n",
       "      <td>0.044374</td>\n",
       "    </tr>\n",
       "    <tr>\n",
       "      <th>13</th>\n",
       "      <td>I am so excited about the concert.</td>\n",
       "      <td>excite concert</td>\n",
       "      <td>excite concert</td>\n",
       "      <td>0.043359</td>\n",
       "      <td>0.043359</td>\n",
       "    </tr>\n",
       "    <tr>\n",
       "      <th>10</th>\n",
       "      <td>I love this car.</td>\n",
       "      <td>love car</td>\n",
       "      <td>love car</td>\n",
       "      <td>0.026538</td>\n",
       "      <td>0.026538</td>\n",
       "    </tr>\n",
       "    <tr>\n",
       "      <th>12</th>\n",
       "      <td>I feel great this morning.</td>\n",
       "      <td>feel great morning</td>\n",
       "      <td>feel great morning</td>\n",
       "      <td>0.020882</td>\n",
       "      <td>0.020882</td>\n",
       "    </tr>\n",
       "    <tr>\n",
       "      <th>16</th>\n",
       "      <td>This view is horrible.</td>\n",
       "      <td>view horrible</td>\n",
       "      <td>view horrible</td>\n",
       "      <td>-0.007593</td>\n",
       "      <td>-0.007593</td>\n",
       "    </tr>\n",
       "    <tr>\n",
       "      <th>1</th>\n",
       "      <td>Mac pc is terrible</td>\n",
       "      <td>mac pc terrible</td>\n",
       "      <td>mac pc terrible</td>\n",
       "      <td>-0.008084</td>\n",
       "      <td>-0.008084</td>\n",
       "    </tr>\n",
       "    <tr>\n",
       "      <th>17</th>\n",
       "      <td>I feel tired this morning.</td>\n",
       "      <td>feel tire morning</td>\n",
       "      <td>feel tire morning</td>\n",
       "      <td>-0.012587</td>\n",
       "      <td>-0.012587</td>\n",
       "    </tr>\n",
       "  </tbody>\n",
       "</table>\n",
       "</div>"
      ],
      "text/plain": [
       "                                        text            text_clean    text_clean_non_include         d     d_not\n",
       "6                                     assist                assist                    assist  1.000000  1.000000\n",
       "7                                       help                  help                      help  0.564128  0.564128\n",
       "4         She said she is pleased to assist!     say please assist         say please assist  0.351765  0.351765\n",
       "9                                        aid                   aid                       aid  0.313503  0.313503\n",
       "8                                    support               support                   support  0.305955  0.305955\n",
       "5           She doesn't want to help anyone.      want help anyone   doesnt want help anyone  0.192835  0.192835\n",
       "3                Lisa is willing to help you        lisa will help            lisa will help  0.133535  0.133535\n",
       "2                   Lisa is glad to help you        lisa glad help            lisa glad help  0.096889  0.096889\n",
       "11                     This view is amazing.          view amazing              view amazing  0.092133  0.092133\n",
       "0                     Mac pc is very useful.         mac pc useful             mac pc useful  0.091802  0.091802\n",
       "19                           He is my enemy.                 enemy                     enemy  0.087477  0.087477\n",
       "14                     He is my best friend.           best friend               best friend  0.085624  0.085624\n",
       "18  I am not looking forward to the concert.  look forward concert  not look forward concert  0.091298  0.075390\n",
       "15                   I do not like this car.              like car              not like car  0.045827  0.044374\n",
       "13        I am so excited about the concert.        excite concert            excite concert  0.043359  0.043359\n",
       "10                          I love this car.              love car                  love car  0.026538  0.026538\n",
       "12                I feel great this morning.    feel great morning        feel great morning  0.020882  0.020882\n",
       "16                    This view is horrible.         view horrible             view horrible -0.007593 -0.007593\n",
       "1                         Mac pc is terrible       mac pc terrible           mac pc terrible -0.008084 -0.008084\n",
       "17                I feel tired this morning.     feel tire morning         feel tire morning -0.012587 -0.012587"
      ]
     },
     "execution_count": 214,
     "metadata": {},
     "output_type": "execute_result"
    }
   ],
   "source": [
    "final_df.sort_values(ascending=False, by='d_not')"
   ]
  },
  {
   "cell_type": "code",
   "execution_count": 221,
   "metadata": {},
   "outputs": [
    {
     "data": {
      "text/plain": [
       "[('loved', 0.6907792091369629),\n",
       " ('adore', 0.6816873550415039),\n",
       " ('loves', 0.661863386631012),\n",
       " ('passion', 0.6100709438323975),\n",
       " ('hate', 0.600395679473877),\n",
       " ('loving', 0.5886635780334473),\n",
       " ('Ilove', 0.5702950954437256),\n",
       " ('affection', 0.5664337873458862),\n",
       " ('undying_love', 0.5547305345535278),\n",
       " ('absolutely_adore', 0.5536840558052063)]"
      ]
     },
     "execution_count": 221,
     "metadata": {},
     "output_type": "execute_result"
    }
   ],
   "source": [
    "word2vec_base.most_similar('love')"
   ]
  },
  {
   "cell_type": "code",
   "execution_count": 232,
   "metadata": {},
   "outputs": [
    {
     "data": {
      "text/plain": [
       "[('glad', 0.7408890724182129),\n",
       " ('pleased', 0.6632170677185059),\n",
       " ('ecstatic', 0.6626912355422974),\n",
       " ('overjoyed', 0.6599286794662476),\n",
       " ('thrilled', 0.6514049768447876),\n",
       " ('satisfied', 0.6437948942184448),\n",
       " ('proud', 0.636042058467865),\n",
       " ('delighted', 0.6272379159927368),\n",
       " ('disappointed', 0.6269949674606323),\n",
       " ('excited', 0.6247665882110596),\n",
       " ('happier', 0.6244627237319946),\n",
       " ('Said_Hirschbeck', 0.6234508752822876),\n",
       " ('elated', 0.6196017861366272),\n",
       " ('thankful', 0.6178935766220093),\n",
       " ('unhappy', 0.6128038167953491),\n",
       " ('enthused', 0.6084051132202148),\n",
       " ('chuffed', 0.5918744802474976),\n",
       " ('grateful', 0.5918135643005371),\n",
       " ('confident', 0.589353084564209),\n",
       " ('hapy', 0.5783905982971191)]"
      ]
     },
     "execution_count": 232,
     "metadata": {},
     "output_type": "execute_result"
    }
   ],
   "source": [
    "word2vec_base.most_similar('happy', topn=20)"
   ]
  },
  {
   "cell_type": "markdown",
   "metadata": {},
   "source": [
    "* It looks that \"word similarity (distance)\" does not include sentiment. Probably only share the similar structute or category only.\n",
    "* That's why using wrod2vec here doen not increase the accuracy of the model.\n",
    "* The more words of one text, the lower detection rate?"
   ]
  },
  {
   "cell_type": "code",
   "execution_count": null,
   "metadata": {},
   "outputs": [],
   "source": []
  },
  {
   "cell_type": "markdown",
   "metadata": {},
   "source": [
    "#### TODO:\n",
    "1. Paragraph vector (SWEM)?\n",
    "2. Use the new X to fit RF model and compare\n",
    "3. Cosine Similarity vs. K-means Difference (then compare sentiment)\n",
    "        * T-SNE or SVD 2-dimension plot  vs. sentiment\n",
    "        * Other distance\n",
    "4. Bert"
   ]
  },
  {
   "cell_type": "code",
   "execution_count": 226,
   "metadata": {},
   "outputs": [
    {
     "data": {
      "text/plain": [
       "0.9999999975996033"
      ]
     },
     "execution_count": 226,
     "metadata": {},
     "output_type": "execute_result"
    }
   ],
   "source": [
    "cos_similarity(np.array([1, 2, 4]), 10 * np.array([1,2,4]))"
   ]
  },
  {
   "cell_type": "code",
   "execution_count": 284,
   "metadata": {},
   "outputs": [
    {
     "data": {
      "text/plain": [
       "0.15639442"
      ]
     },
     "execution_count": 284,
     "metadata": {},
     "output_type": "execute_result"
    }
   ],
   "source": [
    "cos_similarity(word2vec_base['trump'], word2vec_base['Trump'])"
   ]
  },
  {
   "cell_type": "code",
   "execution_count": null,
   "metadata": {},
   "outputs": [],
   "source": []
  },
  {
   "cell_type": "code",
   "execution_count": null,
   "metadata": {},
   "outputs": [],
   "source": []
  },
  {
   "cell_type": "code",
   "execution_count": null,
   "metadata": {},
   "outputs": [],
   "source": []
  },
  {
   "cell_type": "code",
   "execution_count": 4,
   "metadata": {},
   "outputs": [
    {
     "name": "stderr",
     "output_type": "stream",
     "text": [
      "100%|██████████| 10/10 [00:00<00:00, 7463.17it/s]"
     ]
    },
    {
     "name": "stdout",
     "output_type": "stream",
     "text": [
      "0\n",
      "1\n",
      "2\n",
      "3\n",
      "4\n",
      "5\n",
      "6\n",
      "7\n",
      "8\n",
      "9\n"
     ]
    },
    {
     "name": "stderr",
     "output_type": "stream",
     "text": [
      "\n"
     ]
    }
   ],
   "source": [
    "from tqdm import tqdm \n",
    "\n",
    "for i in tqdm(range(10)):\n",
    "    print(i)"
   ]
  },
  {
   "cell_type": "code",
   "execution_count": null,
   "metadata": {},
   "outputs": [],
   "source": []
  }
 ],
 "metadata": {
  "kernelspec": {
   "display_name": "Python 3",
   "language": "python",
   "name": "python3"
  },
  "language_info": {
   "codemirror_mode": {
    "name": "ipython",
    "version": 3
   },
   "file_extension": ".py",
   "mimetype": "text/x-python",
   "name": "python",
   "nbconvert_exporter": "python",
   "pygments_lexer": "ipython3",
   "version": "3.7.4"
  },
  "toc-autonumbering": true,
  "toc-showmarkdowntxt": false
 },
 "nbformat": 4,
 "nbformat_minor": 4
}
